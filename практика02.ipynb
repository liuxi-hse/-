{
 "cells": [
  {
   "cell_type": "code",
   "execution_count": null,
   "metadata": {
    "id": "L-gtac0Bs3w_"
   },
   "outputs": [],
   "source": [
    "  !pip install -U datasets"
   ]
  },
  {
   "cell_type": "code",
   "execution_count": null,
   "metadata": {
    "id": "Umkx8K5BgEfo"
   },
   "outputs": [],
   "source": [
    "import pandas as pd\n",
    "import numpy as np\n",
    "import seaborn as sns\n",
    "import matplotlib.pyplot as plt\n",
    "from datasets import load_dataset\n",
    "from collections import Counter\n",
    "import re\n",
    "import nltk"
   ]
  },
  {
   "cell_type": "code",
   "execution_count": null,
   "metadata": {
    "colab": {
     "base_uri": "https://localhost:8080/"
    },
    "id": "Uuf-VaqFgKe_",
    "outputId": "b6790272-2800-4edf-bffb-712cb4a404a4"
   },
   "outputs": [
    {
     "name": "stderr",
     "output_type": "stream",
     "text": [
      "[nltk_data] Downloading package punkt to /root/nltk_data...\n",
      "[nltk_data]   Unzipping tokenizers/punkt.zip.\n"
     ]
    },
    {
     "data": {
      "text/plain": [
       "True"
      ]
     },
     "execution_count": 3,
     "metadata": {},
     "output_type": "execute_result"
    }
   ],
   "source": [
    "nltk.download('punkt')"
   ]
  },
  {
   "cell_type": "code",
   "execution_count": null,
   "metadata": {
    "colab": {
     "base_uri": "https://localhost:8080/",
     "height": 217,
     "referenced_widgets": [
      "e867a1d2216c4b51b791053d8384e5a3",
      "49d5c0f70e0749168ba66583e3d64b42",
      "2c19a4e9a4fc4d2f9149204f64053cc0",
      "e65a47ebcd9a42369dcabca87c0bcffe",
      "23d391e2844a42cabd6114226686c88a",
      "062022fab29a48089422f3d50e40a39d",
      "3531a43278ac4f8f9c24f73b8d42d584",
      "0602794d8f824c2bbc75a4fcd54c6dd5",
      "9703a7d684e04dd0a0c8eaff03058797",
      "fb8f3f36180a4f90bd78d7bc3725e36d",
      "e1bfdc7720e2401a8b31b0484bf01525",
      "7bfd516307464a8fb1a4433b491c2383",
      "85a0a6d629d24938bbf3379af586fd86",
      "108dbc33e21944a4a457642428a33327",
      "187cd0c8ae3943b3950f303cc2ae209a",
      "828315e66fff41bcbe68a16307efa779",
      "3530513625b54d438bcef696cb2972ee",
      "74139aa785824b4bb6056c6bf154d7e9",
      "568dd7a0b8d54965a96e33c32fd86750",
      "4b456d5b3c75437398e0c5a7d3c7dea6",
      "2a14fbb4ca8448799881456d50f39d86",
      "2640039e757c48f1bf1870e189307410",
      "b66797f7e2e94989a76f729791317340",
      "bfa0c621003c436b92bc4c127ff5fd3a",
      "26fc39eec5e54dcbad8b428d056e5fd7",
      "ac7db4cc40ef43e2b38c46b2e10669db",
      "89efb29d13754337985c8fbc0006580c",
      "2ab91e30924c4768b58d16f3e1c69119",
      "c17e16c0cf7d4061bd3cdcd408ae6303",
      "e166257a3e31471184e23fc7261ed80c",
      "d8dcdf4b39ec49f89944ad5d1ce681f4",
      "9c97d745a56140c7be4bc282a9ae49d4",
      "20b834a214de40b3818fec5396f0fd34"
     ]
    },
    "id": "n4wCMxBtgNqU",
    "outputId": "a05aedd8-14f0-45a5-fff4-50a32fb80be1"
   },
   "outputs": [
    {
     "name": "stderr",
     "output_type": "stream",
     "text": [
      "/usr/local/lib/python3.11/dist-packages/huggingface_hub/utils/_auth.py:94: UserWarning: \n",
      "The secret `HF_TOKEN` does not exist in your Colab secrets.\n",
      "To authenticate with the Hugging Face Hub, create a token in your settings tab (https://huggingface.co/settings/tokens), set it as secret in your Google Colab and restart your session.\n",
      "You will be able to reuse this secret in all of your notebooks.\n",
      "Please note that authentication is recommended but still optional to access public models or datasets.\n",
      "  warnings.warn(\n"
     ]
    },
    {
     "data": {
      "application/vnd.jupyter.widget-view+json": {
       "model_id": "e867a1d2216c4b51b791053d8384e5a3",
       "version_major": 2,
       "version_minor": 0
      },
      "text/plain": [
       "README.md:   0%|          | 0.00/1.68k [00:00<?, ?B/s]"
      ]
     },
     "metadata": {},
     "output_type": "display_data"
    },
    {
     "data": {
      "application/vnd.jupyter.widget-view+json": {
       "model_id": "7bfd516307464a8fb1a4433b491c2383",
       "version_major": 2,
       "version_minor": 0
      },
      "text/plain": [
       "train-00000-of-00001.parquet:   0%|          | 0.00/13.1M [00:00<?, ?B/s]"
      ]
     },
     "metadata": {},
     "output_type": "display_data"
    },
    {
     "data": {
      "application/vnd.jupyter.widget-view+json": {
       "model_id": "b66797f7e2e94989a76f729791317340",
       "version_major": 2,
       "version_minor": 0
      },
      "text/plain": [
       "Generating train split:   0%|          | 0/101833 [00:00<?, ? examples/s]"
      ]
     },
     "metadata": {},
     "output_type": "display_data"
    }
   ],
   "source": [
    "dataset = load_dataset(\"udmurtNLP/udmurt-russian-parallel-corpora\")"
   ]
  },
  {
   "cell_type": "code",
   "execution_count": null,
   "metadata": {
    "id": "sD3wWFnZgNlq"
   },
   "outputs": [],
   "source": [
    "df = pd.DataFrame(dataset['train'])"
   ]
  },
  {
   "cell_type": "code",
   "execution_count": null,
   "metadata": {
    "id": "W7gVCfUagNg7"
   },
   "outputs": [],
   "source": [
    "def count_words(text, lang='other'):\n",
    "    #Количество слов\n",
    "    #For agglutinative languages, we may need complex word segmenter based on morphological analysis.(?)\n",
    "    return len(text.split())\n",
    "\n",
    "def count_chars(text):\n",
    "    #символы\n",
    "    return len(text)\n",
    "\n",
    "def count_tokens(text, tokenizer=None):\n",
    "    #токен\n",
    "    if tokenizer is None:\n",
    "        return len(text.split())\n",
    "    else:\n",
    "        return len(tokenizer.tokenize(text))"
   ]
  },
  {
   "cell_type": "code",
   "execution_count": null,
   "metadata": {
    "id": "_QuJ_v_ygTyh"
   },
   "outputs": [],
   "source": [
    "# 1. EDA\n",
    "# инициализация по языкам\n",
    "stats = {'udm': {'words': 0, 'chars': 0, 'tokens': 0, 'sent_lengths_words': [], 'sent_lengths_chars': [], 'sent_lengths_tokens': []},\n",
    "      'ru': {'words': 0, 'chars': 0, 'tokens': 0, 'sent_lengths_words': [], 'sent_lengths_chars': [], 'sent_lengths_tokens': []}}"
   ]
  },
  {
   "cell_type": "code",
   "execution_count": null,
   "metadata": {
    "id": "jAduGfodghBk"
   },
   "outputs": [],
   "source": [
    "tokenizer = nltk.tokenize.WhitespaceTokenizer()"
   ]
  },
  {
   "cell_type": "code",
   "execution_count": null,
   "metadata": {
    "colab": {
     "base_uri": "https://localhost:8080/"
    },
    "collapsed": true,
    "id": "yYIkOnnCgh8X",
    "outputId": "f148d3f7-0cb0-49da-b80a-fdae6d230131"
   },
   "outputs": [
    {
     "name": "stdout",
     "output_type": "stream",
     "text": [
      "UDM:\n",
      "words:1043734\n",
      "chars:6762043\n",
      "tokens:1043734\n",
      "RU:\n",
      "words:1083595\n",
      "chars:6623831\n",
      "tokens:1083595\n"
     ]
    }
   ],
   "source": [
    "for index, row in df.iterrows():\n",
    "    udm_text = row['udm']\n",
    "    ru_text = row['ru']\n",
    "\n",
    "    # udm\n",
    "    udm_word_count = count_words(udm_text)\n",
    "    udm_char_count = count_chars(udm_text)\n",
    "    udm_token_count = count_tokens(udm_text, tokenizer)\n",
    "    stats['udm']['words'] += udm_word_count\n",
    "    stats['udm']['chars'] += udm_char_count\n",
    "    stats['udm']['tokens'] += udm_token_count\n",
    "    stats['udm']['sent_lengths_words'].append(udm_word_count)\n",
    "    stats['udm']['sent_lengths_chars'].append(udm_char_count)\n",
    "    stats['udm']['sent_lengths_tokens'].append(udm_token_count)\n",
    "\n",
    "    # ru\n",
    "    ru_word_count = count_words(ru_text)\n",
    "    ru_char_count = count_chars(ru_text)\n",
    "    ru_token_count = count_tokens(ru_text, tokenizer)\n",
    "    stats['ru']['words'] += ru_word_count\n",
    "    stats['ru']['chars'] += ru_char_count\n",
    "    stats['ru']['tokens'] += ru_token_count\n",
    "    stats['ru']['sent_lengths_words'].append(ru_word_count)\n",
    "    stats['ru']['sent_lengths_chars'].append(ru_char_count)\n",
    "    stats['ru']['sent_lengths_tokens'].append(ru_token_count)\n",
    "\n",
    "# объём\n",
    "for lang in ['udm', 'ru']:\n",
    "    print(f\"{lang.upper()}:\")\n",
    "    print(f\"words:{stats[lang]['words']}\")\n",
    "    print(f\"chars:{stats[lang]['chars']}\")\n",
    "    print(f\"tokens:{stats[lang]['tokens']}\")"
   ]
  },
  {
   "cell_type": "markdown",
   "metadata": {
    "id": "IoU-32VgpuPL"
   },
   "source": [
    "## Phase 2"
   ]
  },
  {
   "cell_type": "code",
   "execution_count": null,
   "metadata": {
    "colab": {
     "base_uri": "https://localhost:8080/",
     "height": 380
    },
    "id": "6T45jQX5gjxi",
    "outputId": "5584fff7-6514-4ffc-91f0-b80f8825a136"
   },
   "outputs": [
    {
     "name": "stdout",
     "output_type": "stream",
     "text": [
      "Найдено выбросов: 5292\n"
     ]
    },
    {
     "data": {
      "application/vnd.google.colaboratory.intrinsic+json": {
       "summary": "{\n  \"name\": \"outliers_df[['udm', 'ru', 'udm_len', 'ru_len']]\",\n  \"rows\": 10,\n  \"fields\": [\n    {\n      \"column\": \"udm\",\n      \"properties\": {\n        \"dtype\": \"string\",\n        \"num_unique_values\": 10,\n        \"samples\": [\n          \"\\u0415\\u0433\\u0438\\u0442\\u044a\\u0451\\u0441\\u0442\\u044b \\u0442\\u0443\\u0436 \\u0437\\u043e\\u043b \\u0442\\u044b\\u0448\\u043a\\u0430\\u0441\\u044c\\u043a\\u044b\\u043b\\u043e \\u043d\\u043e \\u0436\\u0443\\u0433\\u044b\\u043b\\u043e \\u0432\\u0430\\u043b, \\u043e\\u0437\\u044c\\u044b \\u043a\\u0435 \\u043d\\u043e, \\u0435\\u0433\\u0438\\u0442\\u044a\\u0451\\u0441\\u043b\\u044d\\u043d \\u044e\\u044d\\u043c\\u0437\\u044b \\u043d\\u043e \\u0436\\u0443\\u0433\\u0438\\u0441\\u044c\\u043a\\u0435\\u043c\\u0437\\u044b \\u043f\\u0435\\u0440\\u0435\\u0441\\u044c\\u0451\\u0441 \\u043f\\u043e\\u043d\\u043d\\u0430 \\u043e\\u0434\\u043d\\u043e \\u0438\\u043a \\u043a\\u0443\\u043b\\u044d \\u043a\\u0430\\u0434\\u044c \\u043f\\u043e\\u0442\\u044b\\u043b\\u04e5\\u0437, \\u0430\\u0442\\u0430\\u0439\\u0451\\u0441\\u0441\\u044b, \\u0435\\u0433\\u0438\\u0442 \\u0434\\u044b\\u0440\\u044a\\u044f\\u0437\\u044b, \\u043e\\u0437\\u044c\\u044b \\u0438\\u043a \\u044e\\u044b\\u043b\\u04e5\\u0437\\u044b \\u043d\\u043e \\u0436\\u0443\\u0433\\u0438\\u0441\\u044c\\u043a\\u044b\\u043b\\u04e5\\u0437\\u044b, \\u0441\\u043e\\u043e\\u0441\\u0442\\u044b \\u0430\\u043d\\u0430\\u0439\\u0451\\u0441\\u0441\\u044b \\u043d\\u043e \\u0430\\u0442\\u0430\\u0439\\u0451\\u0441\\u0441\\u044b \\u043e\\u0437\\u044c\\u044b \\u0438\\u043a \\u0436\\u0443\\u0433\\u044b\\u043b\\u04e5\\u0437\\u044b.\",\n          \"\\u041a\\u0435\\u0437\\u044c\\u044b\\u0442 \\u04f5\\u0443\\u043a\\u043d\\u0430 \\u04dd\\u043e\\u043c\\u044b\\u0442\\u044b\\u043d \\u0441\\u043e\\u043e\\u0441 \\u0438\\u0437\\u044d\\u043d \\u0432\\u04e7\\u043b\\u0434\\u044b\\u043c\\u0442\\u044d \\u0443\\u0440\\u0430\\u043c \\u043a\\u0443\\u0437\\u044f \\u043c\\u044b\\u043d\\u044b\\u043b\\u04e5\\u0437\\u044b \\u0444\\u0430\\u0431\\u0440\\u0438\\u043a\\u0430\\u043b\\u044d\\u043d \\u04dd\\u0443\\u0436\\u044b\\u0442\\u044d\\u0441\\u044c \\u044e\\u0440\\u0442\\u044a\\u0451\\u0441\\u044b\\u0437 \\u0434\\u043e\\u0440\\u044b. \\u0414\\u0430\\u0441\\u043e\\u043e\\u0441\\u044b\\u043d \\u043b\\u044b\\u0434\\u044a\\u044f\\u0441\\u044c\\u043a\\u0438\\u0441\\u044c \\u043d\\u044c\\u044b\\u043b\\u044c \\u0441\\u044d\\u0440\\u0435\\u0433\\u043e, \\u043a\\u04e7\\u0439 \\u0441\\u0438\\u043d\\u044a\\u0451\\u0441\\u044b\\u043d\\u044b\\u0437 \\u0434\\u044d\\u0440\\u0438\\u0451 \\u0441\\u044e\\u0440\\u0435\\u0441\\u044d\\u0437 \\u044e\\u0433\\u0434\\u044b\\u0442\\u044b\\u0441\\u0430, \\u0444\\u0430\\u0431\\u0440\\u0438\\u043a\\u0430 \\u043e\\u0433\\u0432\\u044b\\u043b\\u043b\\u0435\\u043c \\u043e\\u0441\\u043a\\u043e\\u043d\\u044d\\u043d \\u043f\\u0443\\u043c\\u0438\\u0442\\u0430\\u043b\\u043b\\u044f\\u0437 \\u0441\\u043e\\u043e\\u0441\\u0442\\u044b.\",\n          \"\\u0410\\u0434\\u044f\\u043c\\u0438\\u043e\\u0441, \\u0430\\u0442\\u0430\\u0439\\u0451\\u0441\\u0441\\u044b \\u043a\\u0430\\u0434\\u044c \\u0438\\u043a, \\u0442\\u0430\\u04f5\\u0435 \\u0432\\u0438\\u0441\\u0438\\u0441\\u044c \\u043c\\u044b\\u043b\\u043a\\u044b\\u0434\\u044b\\u043d \\u0432\\u043e\\u0440\\u0434\\u0441\\u043a\\u044b\\u043b\\u04e5\\u0437\\u044b, \\u0442\\u0430 \\u0432\\u0438\\u0441\\u0451\\u043d \\u0441\\u044c\\u04e7\\u0434 \\u0432\\u0443\\u0436\\u0435\\u0440 \\u043a\\u0430\\u0434\\u044c \\u043a\\u0435\\u043b\\u044f\\u0441\\u0430 \\u043c\\u044b\\u043d\\u04e5\\u0437 \\u0441\\u043e\\u043e\\u0441\\u0442\\u044b \\u0448\\u0430\\u0439\\u0433\\u0443\\u0437\\u044b \\u0434\\u043e\\u0440\\u043e\\u0437\\u044c, \\u0443\\u043b\\u044b\\u0442\\u043e\\u0437\\u044f\\u0437\\u044b \\u0441\\u043e\\u043e\\u0441\\u0442\\u044b \\u0441\\u043e \\u04dd\\u0443\\u0442\\u044b\\u043b\\u04e5\\u0437 \\u043a\\u0443\\u043b\\u044d\\u0442\\u044d\\u043c \\u0441\\u044c\\u04e7\\u0441\\u044c\\u043b\\u044b\\u043a\\u0435\\u043d\\u044b\\u0437 \\u044e\\u0440\\u04df\\u044b\\u043c \\u043b\\u0443\\u0438\\u0441\\u044c \\u0443\\u0440\\u043e\\u0434 \\u0443\\u0436\\u044a\\u0451\\u0441\\u044b.\"\n        ],\n        \"semantic_type\": \"\",\n        \"description\": \"\"\n      }\n    },\n    {\n      \"column\": \"ru\",\n      \"properties\": {\n        \"dtype\": \"string\",\n        \"num_unique_values\": 10,\n        \"samples\": [\n          \"\\u0420\\u0443\\u0433\\u0430\\u043b\\u0438 \\u0438 \\u0431\\u0438\\u043b\\u0438 \\u0434\\u0435\\u0442\\u0435\\u0439 \\u0442\\u044f\\u0436\\u0435\\u043b\\u043e, \\u043d\\u043e \\u043f\\u044c\\u044f\\u043d\\u0441\\u0442\\u0432\\u043e \\u0438 \\u0434\\u0440\\u0430\\u043a\\u0438 \\u043c\\u043e\\u043b\\u043e\\u0434\\u0435\\u0436\\u0438 \\u043a\\u0430\\u0437\\u0430\\u043b\\u0438\\u0441\\u044c \\u0441\\u0442\\u0430\\u0440\\u0438\\u043a\\u0430\\u043c \\u0432\\u043f\\u043e\\u043b\\u043d\\u0435 \\u0437\\u0430\\u043a\\u043e\\u043d\\u043d\\u044b\\u043c \\u044f\\u0432\\u043b\\u0435\\u043d\\u0438\\u0435\\u043c, \\u2014 \\u043a\\u043e\\u0433\\u0434\\u0430 \\u043e\\u0442\\u0446\\u044b \\u0431\\u044b\\u043b\\u0438 \\u043c\\u043e\\u043b\\u043e\\u0434\\u044b, \\u043e\\u043d\\u0438 \\u0442\\u043e\\u0436\\u0435 \\u043f\\u0438\\u043b\\u0438 \\u0438 \\u0434\\u0440\\u0430\\u043b\\u0438\\u0441\\u044c, \\u0438\\u0445 \\u0442\\u043e\\u0436\\u0435 \\u0431\\u0438\\u043b\\u0438 \\u043c\\u0430\\u0442\\u0435\\u0440\\u0438 \\u0438 \\u043e\\u0442\\u0446\\u044b.\",\n          \"\\u0412 \\u0445\\u043e\\u043b\\u043e\\u0434\\u043d\\u043e\\u043c \\u0441\\u0443\\u043c\\u0440\\u0430\\u043a\\u0435 \\u043e\\u043d\\u0438 \\u0448\\u043b\\u0438 \\u043f\\u043e \\u043d\\u0435\\u043c\\u043e\\u0449\\u0435\\u043d\\u043e\\u0439 \\u0443\\u043b\\u0438\\u0446\\u0435 \\u043a \\u0432\\u044b\\u0441\\u043e\\u043a\\u0438\\u043c \\u043a\\u0430\\u043c\\u0435\\u043d\\u043d\\u044b\\u043c \\u043a\\u043b\\u0435\\u0442\\u043a\\u0430\\u043c \\u0444\\u0430\\u0431\\u0440\\u0438\\u043a\\u0438, \\u043e\\u043d\\u0430 \\u0441 \\u0440\\u0430\\u0432\\u043d\\u043e\\u0434\\u0443\\u0448\\u043d\\u043e\\u0439 \\u0443\\u0432\\u0435\\u0440\\u0435\\u043d\\u043d\\u043e\\u0441\\u0442\\u044c\\u044e \\u0436\\u0434\\u0430\\u043b\\u0430 \\u0438\\u0445, \\u043e\\u0441\\u0432\\u0435\\u0449\\u0430\\u044f \\u0433\\u0440\\u044f\\u0437\\u043d\\u0443\\u044e \\u0434\\u043e\\u0440\\u043e\\u0433\\u0443 \\u0434\\u0435\\u0441\\u044f\\u0442\\u043a\\u0430\\u043c\\u0438 \\u0436\\u0438\\u0440\\u043d\\u044b\\u0445 \\u043a\\u0432\\u0430\\u0434\\u0440\\u0430\\u0442\\u043d\\u044b\\u0445 \\u0433\\u043b\\u0430\\u0437.\",\n          \"\\u041b\\u044e\\u0434\\u0438 \\u0440\\u043e\\u0436\\u0434\\u0430\\u043b\\u0438\\u0441\\u044c \\u0441 \\u044d\\u0442\\u043e\\u044e \\u0431\\u043e\\u043b\\u0435\\u0437\\u043d\\u044c\\u044e \\u0434\\u0443\\u0448\\u0438, \\u043d\\u0430\\u0441\\u043b\\u0435\\u0434\\u0443\\u044f \\u0435\\u0435 \\u043e\\u0442 \\u043e\\u0442\\u0446\\u043e\\u0432, \\u0438 \\u043e\\u043d\\u0430 \\u0447\\u0435\\u0440\\u043d\\u043e\\u044e \\u0442\\u0435\\u043d\\u044c\\u044e \\u0441\\u043e\\u043f\\u0440\\u043e\\u0432\\u043e\\u0436\\u0434\\u0430\\u043b\\u0430 \\u0438\\u0445 \\u0434\\u043e \\u043c\\u043e\\u0433\\u0438\\u043b\\u044b, \\u043f\\u043e\\u0431\\u0443\\u0436\\u0434\\u0430\\u044f \\u0432 \\u0442\\u0435\\u0447\\u0435\\u043d\\u0438\\u0435 \\u0436\\u0438\\u0437\\u043d\\u0438 \\u043a \\u0440\\u044f\\u0434\\u0443 \\u043f\\u043e\\u0441\\u0442\\u0443\\u043f\\u043a\\u043e\\u0432, \\u043e\\u0442\\u0432\\u0440\\u0430\\u0442\\u0438\\u0442\\u0435\\u043b\\u044c\\u043d\\u044b\\u0445 \\u0441\\u0432\\u043e\\u0435\\u0439 \\u0431\\u0435\\u0441\\u0446\\u0435\\u043b\\u044c\\u043d\\u043e\\u0439 \\u0436\\u0435\\u0441\\u0442\\u043e\\u043a\\u043e\\u0441\\u0442\\u044c\\u044e.\"\n        ],\n        \"semantic_type\": \"\",\n        \"description\": \"\"\n      }\n    },\n    {\n      \"column\": \"udm_len\",\n      \"properties\": {\n        \"dtype\": \"number\",\n        \"std\": 5,\n        \"min\": 27,\n        \"max\": 45,\n        \"num_unique_values\": 9,\n        \"samples\": [\n          40,\n          27,\n          28\n        ],\n        \"semantic_type\": \"\",\n        \"description\": \"\"\n      }\n    },\n    {\n      \"column\": \"ru_len\",\n      \"properties\": {\n        \"dtype\": \"number\",\n        \"std\": 6,\n        \"min\": 26,\n        \"max\": 46,\n        \"num_unique_values\": 9,\n        \"samples\": [\n          31,\n          26,\n          29\n        ],\n        \"semantic_type\": \"\",\n        \"description\": \"\"\n      }\n    }\n  ]\n}",
       "type": "dataframe"
      },
      "text/html": [
       "\n",
       "  <div id=\"df-0edcdf13-8824-4a6c-b15f-29ff688c2784\" class=\"colab-df-container\">\n",
       "    <div>\n",
       "<style scoped>\n",
       "    .dataframe tbody tr th:only-of-type {\n",
       "        vertical-align: middle;\n",
       "    }\n",
       "\n",
       "    .dataframe tbody tr th {\n",
       "        vertical-align: top;\n",
       "    }\n",
       "\n",
       "    .dataframe thead th {\n",
       "        text-align: right;\n",
       "    }\n",
       "</style>\n",
       "<table border=\"1\" class=\"dataframe\">\n",
       "  <thead>\n",
       "    <tr style=\"text-align: right;\">\n",
       "      <th></th>\n",
       "      <th>udm</th>\n",
       "      <th>ru</th>\n",
       "      <th>udm_len</th>\n",
       "      <th>ru_len</th>\n",
       "    </tr>\n",
       "  </thead>\n",
       "  <tbody>\n",
       "    <tr>\n",
       "      <th>0</th>\n",
       "      <td>Рабочийёслэн слободказы вадьсын, ӵыно, вӧё омы...</td>\n",
       "      <td>Каждый день над рабочей слободкой, в дымном, м...</td>\n",
       "      <td>33</td>\n",
       "      <td>35</td>\n",
       "    </tr>\n",
       "    <tr>\n",
       "      <th>1</th>\n",
       "      <td>Кезьыт ӵукна ӝомытын соос изэн вӧлдымтэ урам к...</td>\n",
       "      <td>В холодном сумраке они шли по немощеной улице ...</td>\n",
       "      <td>27</td>\n",
       "      <td>26</td>\n",
       "    </tr>\n",
       "    <tr>\n",
       "      <th>5</th>\n",
       "      <td>Ӝыт, шунды пуксьыку, солэн горд сиосыз коркаос...</td>\n",
       "      <td>Вечером, когда садилось солнце и на стеклах до...</td>\n",
       "      <td>45</td>\n",
       "      <td>44</td>\n",
       "    </tr>\n",
       "    <tr>\n",
       "      <th>8</th>\n",
       "      <td>Нунал пытьыез кылёнтэм ӵушемын улонысь, адями ...</td>\n",
       "      <td>День бесследно вычеркнут из жизни, человек сде...</td>\n",
       "      <td>29</td>\n",
       "      <td>27</td>\n",
       "    </tr>\n",
       "    <tr>\n",
       "      <th>12</th>\n",
       "      <td>Ӝыт соос мылзы потытэк юмшаллязы урамъёс кузя,...</td>\n",
       "      <td>Вечером лениво гуляли по улицам, и тот, кто им...</td>\n",
       "      <td>30</td>\n",
       "      <td>28</td>\n",
       "    </tr>\n",
       "    <tr>\n",
       "      <th>23</th>\n",
       "      <td>Адямиос, атайёссы кадь ик, таӵе висись мылкыды...</td>\n",
       "      <td>Люди рождались с этою болезнью души, наследуя ...</td>\n",
       "      <td>28</td>\n",
       "      <td>29</td>\n",
       "    </tr>\n",
       "    <tr>\n",
       "      <th>24</th>\n",
       "      <td>Праздникъёсы егитъёс доразы бер уин берытскылӥ...</td>\n",
       "      <td>По праздникам молодежь являлась домой поздно н...</td>\n",
       "      <td>36</td>\n",
       "      <td>35</td>\n",
       "    </tr>\n",
       "    <tr>\n",
       "      <th>26</th>\n",
       "      <td>Валанзэс ыштыса пограм пиоссэс соос кытысь ке ...</td>\n",
       "      <td>Они отыскивали их где-нибудь под забором на ул...</td>\n",
       "      <td>40</td>\n",
       "      <td>46</td>\n",
       "    </tr>\n",
       "    <tr>\n",
       "      <th>27</th>\n",
       "      <td>Егитъёсты туж зол тышкаськыло но жугыло вал, о...</td>\n",
       "      <td>Ругали и били детей тяжело, но пьянство и драк...</td>\n",
       "      <td>36</td>\n",
       "      <td>31</td>\n",
       "    </tr>\n",
       "    <tr>\n",
       "      <th>28</th>\n",
       "      <td>Улон котьку сыӵе вал, — со пож визылэн аръёс б...</td>\n",
       "      <td>Жизнь всегда была такова, — она ровно и медлен...</td>\n",
       "      <td>34</td>\n",
       "      <td>34</td>\n",
       "    </tr>\n",
       "  </tbody>\n",
       "</table>\n",
       "</div>\n",
       "    <div class=\"colab-df-buttons\">\n",
       "\n",
       "  <div class=\"colab-df-container\">\n",
       "    <button class=\"colab-df-convert\" onclick=\"convertToInteractive('df-0edcdf13-8824-4a6c-b15f-29ff688c2784')\"\n",
       "            title=\"Convert this dataframe to an interactive table.\"\n",
       "            style=\"display:none;\">\n",
       "\n",
       "  <svg xmlns=\"http://www.w3.org/2000/svg\" height=\"24px\" viewBox=\"0 -960 960 960\">\n",
       "    <path d=\"M120-120v-720h720v720H120Zm60-500h600v-160H180v160Zm220 220h160v-160H400v160Zm0 220h160v-160H400v160ZM180-400h160v-160H180v160Zm440 0h160v-160H620v160ZM180-180h160v-160H180v160Zm440 0h160v-160H620v160Z\"/>\n",
       "  </svg>\n",
       "    </button>\n",
       "\n",
       "  <style>\n",
       "    .colab-df-container {\n",
       "      display:flex;\n",
       "      gap: 12px;\n",
       "    }\n",
       "\n",
       "    .colab-df-convert {\n",
       "      background-color: #E8F0FE;\n",
       "      border: none;\n",
       "      border-radius: 50%;\n",
       "      cursor: pointer;\n",
       "      display: none;\n",
       "      fill: #1967D2;\n",
       "      height: 32px;\n",
       "      padding: 0 0 0 0;\n",
       "      width: 32px;\n",
       "    }\n",
       "\n",
       "    .colab-df-convert:hover {\n",
       "      background-color: #E2EBFA;\n",
       "      box-shadow: 0px 1px 2px rgba(60, 64, 67, 0.3), 0px 1px 3px 1px rgba(60, 64, 67, 0.15);\n",
       "      fill: #174EA6;\n",
       "    }\n",
       "\n",
       "    .colab-df-buttons div {\n",
       "      margin-bottom: 4px;\n",
       "    }\n",
       "\n",
       "    [theme=dark] .colab-df-convert {\n",
       "      background-color: #3B4455;\n",
       "      fill: #D2E3FC;\n",
       "    }\n",
       "\n",
       "    [theme=dark] .colab-df-convert:hover {\n",
       "      background-color: #434B5C;\n",
       "      box-shadow: 0px 1px 3px 1px rgba(0, 0, 0, 0.15);\n",
       "      filter: drop-shadow(0px 1px 2px rgba(0, 0, 0, 0.3));\n",
       "      fill: #FFFFFF;\n",
       "    }\n",
       "  </style>\n",
       "\n",
       "    <script>\n",
       "      const buttonEl =\n",
       "        document.querySelector('#df-0edcdf13-8824-4a6c-b15f-29ff688c2784 button.colab-df-convert');\n",
       "      buttonEl.style.display =\n",
       "        google.colab.kernel.accessAllowed ? 'block' : 'none';\n",
       "\n",
       "      async function convertToInteractive(key) {\n",
       "        const element = document.querySelector('#df-0edcdf13-8824-4a6c-b15f-29ff688c2784');\n",
       "        const dataTable =\n",
       "          await google.colab.kernel.invokeFunction('convertToInteractive',\n",
       "                                                    [key], {});\n",
       "        if (!dataTable) return;\n",
       "\n",
       "        const docLinkHtml = 'Like what you see? Visit the ' +\n",
       "          '<a target=\"_blank\" href=https://colab.research.google.com/notebooks/data_table.ipynb>data table notebook</a>'\n",
       "          + ' to learn more about interactive tables.';\n",
       "        element.innerHTML = '';\n",
       "        dataTable['output_type'] = 'display_data';\n",
       "        await google.colab.output.renderOutput(dataTable, element);\n",
       "        const docLink = document.createElement('div');\n",
       "        docLink.innerHTML = docLinkHtml;\n",
       "        element.appendChild(docLink);\n",
       "      }\n",
       "    </script>\n",
       "  </div>\n",
       "\n",
       "\n",
       "    <div id=\"df-e7ea995a-de36-4b75-be8f-694442344852\">\n",
       "      <button class=\"colab-df-quickchart\" onclick=\"quickchart('df-e7ea995a-de36-4b75-be8f-694442344852')\"\n",
       "                title=\"Suggest charts\"\n",
       "                style=\"display:none;\">\n",
       "\n",
       "<svg xmlns=\"http://www.w3.org/2000/svg\" height=\"24px\"viewBox=\"0 0 24 24\"\n",
       "     width=\"24px\">\n",
       "    <g>\n",
       "        <path d=\"M19 3H5c-1.1 0-2 .9-2 2v14c0 1.1.9 2 2 2h14c1.1 0 2-.9 2-2V5c0-1.1-.9-2-2-2zM9 17H7v-7h2v7zm4 0h-2V7h2v10zm4 0h-2v-4h2v4z\"/>\n",
       "    </g>\n",
       "</svg>\n",
       "      </button>\n",
       "\n",
       "<style>\n",
       "  .colab-df-quickchart {\n",
       "      --bg-color: #E8F0FE;\n",
       "      --fill-color: #1967D2;\n",
       "      --hover-bg-color: #E2EBFA;\n",
       "      --hover-fill-color: #174EA6;\n",
       "      --disabled-fill-color: #AAA;\n",
       "      --disabled-bg-color: #DDD;\n",
       "  }\n",
       "\n",
       "  [theme=dark] .colab-df-quickchart {\n",
       "      --bg-color: #3B4455;\n",
       "      --fill-color: #D2E3FC;\n",
       "      --hover-bg-color: #434B5C;\n",
       "      --hover-fill-color: #FFFFFF;\n",
       "      --disabled-bg-color: #3B4455;\n",
       "      --disabled-fill-color: #666;\n",
       "  }\n",
       "\n",
       "  .colab-df-quickchart {\n",
       "    background-color: var(--bg-color);\n",
       "    border: none;\n",
       "    border-radius: 50%;\n",
       "    cursor: pointer;\n",
       "    display: none;\n",
       "    fill: var(--fill-color);\n",
       "    height: 32px;\n",
       "    padding: 0;\n",
       "    width: 32px;\n",
       "  }\n",
       "\n",
       "  .colab-df-quickchart:hover {\n",
       "    background-color: var(--hover-bg-color);\n",
       "    box-shadow: 0 1px 2px rgba(60, 64, 67, 0.3), 0 1px 3px 1px rgba(60, 64, 67, 0.15);\n",
       "    fill: var(--button-hover-fill-color);\n",
       "  }\n",
       "\n",
       "  .colab-df-quickchart-complete:disabled,\n",
       "  .colab-df-quickchart-complete:disabled:hover {\n",
       "    background-color: var(--disabled-bg-color);\n",
       "    fill: var(--disabled-fill-color);\n",
       "    box-shadow: none;\n",
       "  }\n",
       "\n",
       "  .colab-df-spinner {\n",
       "    border: 2px solid var(--fill-color);\n",
       "    border-color: transparent;\n",
       "    border-bottom-color: var(--fill-color);\n",
       "    animation:\n",
       "      spin 1s steps(1) infinite;\n",
       "  }\n",
       "\n",
       "  @keyframes spin {\n",
       "    0% {\n",
       "      border-color: transparent;\n",
       "      border-bottom-color: var(--fill-color);\n",
       "      border-left-color: var(--fill-color);\n",
       "    }\n",
       "    20% {\n",
       "      border-color: transparent;\n",
       "      border-left-color: var(--fill-color);\n",
       "      border-top-color: var(--fill-color);\n",
       "    }\n",
       "    30% {\n",
       "      border-color: transparent;\n",
       "      border-left-color: var(--fill-color);\n",
       "      border-top-color: var(--fill-color);\n",
       "      border-right-color: var(--fill-color);\n",
       "    }\n",
       "    40% {\n",
       "      border-color: transparent;\n",
       "      border-right-color: var(--fill-color);\n",
       "      border-top-color: var(--fill-color);\n",
       "    }\n",
       "    60% {\n",
       "      border-color: transparent;\n",
       "      border-right-color: var(--fill-color);\n",
       "    }\n",
       "    80% {\n",
       "      border-color: transparent;\n",
       "      border-right-color: var(--fill-color);\n",
       "      border-bottom-color: var(--fill-color);\n",
       "    }\n",
       "    90% {\n",
       "      border-color: transparent;\n",
       "      border-bottom-color: var(--fill-color);\n",
       "    }\n",
       "  }\n",
       "</style>\n",
       "\n",
       "      <script>\n",
       "        async function quickchart(key) {\n",
       "          const quickchartButtonEl =\n",
       "            document.querySelector('#' + key + ' button');\n",
       "          quickchartButtonEl.disabled = true;  // To prevent multiple clicks.\n",
       "          quickchartButtonEl.classList.add('colab-df-spinner');\n",
       "          try {\n",
       "            const charts = await google.colab.kernel.invokeFunction(\n",
       "                'suggestCharts', [key], {});\n",
       "          } catch (error) {\n",
       "            console.error('Error during call to suggestCharts:', error);\n",
       "          }\n",
       "          quickchartButtonEl.classList.remove('colab-df-spinner');\n",
       "          quickchartButtonEl.classList.add('colab-df-quickchart-complete');\n",
       "        }\n",
       "        (() => {\n",
       "          let quickchartButtonEl =\n",
       "            document.querySelector('#df-e7ea995a-de36-4b75-be8f-694442344852 button');\n",
       "          quickchartButtonEl.style.display =\n",
       "            google.colab.kernel.accessAllowed ? 'block' : 'none';\n",
       "        })();\n",
       "      </script>\n",
       "    </div>\n",
       "    </div>\n",
       "  </div>\n"
      ],
      "text/plain": [
       "                                                  udm  \\\n",
       "0   Рабочийёслэн слободказы вадьсын, ӵыно, вӧё омы...   \n",
       "1   Кезьыт ӵукна ӝомытын соос изэн вӧлдымтэ урам к...   \n",
       "5   Ӝыт, шунды пуксьыку, солэн горд сиосыз коркаос...   \n",
       "8   Нунал пытьыез кылёнтэм ӵушемын улонысь, адями ...   \n",
       "12  Ӝыт соос мылзы потытэк юмшаллязы урамъёс кузя,...   \n",
       "23  Адямиос, атайёссы кадь ик, таӵе висись мылкыды...   \n",
       "24  Праздникъёсы егитъёс доразы бер уин берытскылӥ...   \n",
       "26  Валанзэс ыштыса пограм пиоссэс соос кытысь ке ...   \n",
       "27  Егитъёсты туж зол тышкаськыло но жугыло вал, о...   \n",
       "28  Улон котьку сыӵе вал, — со пож визылэн аръёс б...   \n",
       "\n",
       "                                                   ru  udm_len  ru_len  \n",
       "0   Каждый день над рабочей слободкой, в дымном, м...       33      35  \n",
       "1   В холодном сумраке они шли по немощеной улице ...       27      26  \n",
       "5   Вечером, когда садилось солнце и на стеклах до...       45      44  \n",
       "8   День бесследно вычеркнут из жизни, человек сде...       29      27  \n",
       "12  Вечером лениво гуляли по улицам, и тот, кто им...       30      28  \n",
       "23  Люди рождались с этою болезнью души, наследуя ...       28      29  \n",
       "24  По праздникам молодежь являлась домой поздно н...       36      35  \n",
       "26  Они отыскивали их где-нибудь под забором на ул...       40      46  \n",
       "27  Ругали и били детей тяжело, но пьянство и драк...       36      31  \n",
       "28  Жизнь всегда была такова, — она ровно и медлен...       34      34  "
      ]
     },
     "execution_count": 10,
     "metadata": {},
     "output_type": "execute_result"
    }
   ],
   "source": [
    "# 1. Найти выбросы по длинам предложений\n",
    "def detect_length_outliers(df):\n",
    "    # Вычисляем длину предложений в токенах\n",
    "    df['udm_len'] = df['udm'].apply(lambda x: len(x.split()))\n",
    "    df['ru_len'] = df['ru'].apply(lambda x: len(x.split()))\n",
    "\n",
    "    # Определяем выбросы для удмуртского языка\n",
    "    udm_q1 = df['udm_len'].quantile(0.25)\n",
    "    udm_q3 = df['udm_len'].quantile(0.75)\n",
    "    udm_iqr = udm_q3 - udm_q1\n",
    "    udm_outliers = df[(df['udm_len'] < udm_q1 - 1.5*udm_iqr) |\n",
    "                     (df['udm_len'] > udm_q3 + 1.5*udm_iqr)]\n",
    "\n",
    "    # Определяем выбросы для русского языка\n",
    "    ru_q1 = df['ru_len'].quantile(0.25)\n",
    "    ru_q3 = df['ru_len'].quantile(0.75)\n",
    "    ru_iqr = ru_q3 - ru_q1\n",
    "    ru_outliers = df[(df['ru_len'] < ru_q1 - 1.5*ru_iqr) |\n",
    "                     (df['ru_len'] > ru_q3 + 1.5*ru_iqr)]\n",
    "\n",
    "    # Объединяем выбросы\n",
    "    all_outliers = pd.concat([udm_outliers, ru_outliers]).drop_duplicates()\n",
    "\n",
    "    return all_outliers\n",
    "\n",
    "# Выводим примеры выбросов\n",
    "outliers_df = detect_length_outliers(df)\n",
    "print(f\"Найдено выбросов: {len(outliers_df)}\")\n",
    "outliers_df[['udm', 'ru', 'udm_len', 'ru_len']].head(10)"
   ]
  },
  {
   "cell_type": "code",
   "execution_count": null,
   "metadata": {
    "colab": {
     "base_uri": "https://localhost:8080/"
    },
    "collapsed": true,
    "id": "arRqGljUgr7P",
    "outputId": "486f8c04-581b-44af-fddc-ecd2466def88"
   },
   "outputs": [
    {
     "name": "stdout",
     "output_type": "stream",
     "text": [
      "Requirement already satisfied: transformers in /usr/local/lib/python3.11/dist-packages (4.52.4)\n",
      "Requirement already satisfied: sentence-transformers in /usr/local/lib/python3.11/dist-packages (4.1.0)\n",
      "Requirement already satisfied: filelock in /usr/local/lib/python3.11/dist-packages (from transformers) (3.18.0)\n",
      "Requirement already satisfied: huggingface-hub<1.0,>=0.30.0 in /usr/local/lib/python3.11/dist-packages (from transformers) (0.32.4)\n",
      "Requirement already satisfied: numpy>=1.17 in /usr/local/lib/python3.11/dist-packages (from transformers) (2.0.2)\n",
      "Requirement already satisfied: packaging>=20.0 in /usr/local/lib/python3.11/dist-packages (from transformers) (24.2)\n",
      "Requirement already satisfied: pyyaml>=5.1 in /usr/local/lib/python3.11/dist-packages (from transformers) (6.0.2)\n",
      "Requirement already satisfied: regex!=2019.12.17 in /usr/local/lib/python3.11/dist-packages (from transformers) (2024.11.6)\n",
      "Requirement already satisfied: requests in /usr/local/lib/python3.11/dist-packages (from transformers) (2.32.3)\n",
      "Requirement already satisfied: tokenizers<0.22,>=0.21 in /usr/local/lib/python3.11/dist-packages (from transformers) (0.21.1)\n",
      "Requirement already satisfied: safetensors>=0.4.3 in /usr/local/lib/python3.11/dist-packages (from transformers) (0.5.3)\n",
      "Requirement already satisfied: tqdm>=4.27 in /usr/local/lib/python3.11/dist-packages (from transformers) (4.67.1)\n",
      "Requirement already satisfied: torch>=1.11.0 in /usr/local/lib/python3.11/dist-packages (from sentence-transformers) (2.6.0+cu124)\n",
      "Requirement already satisfied: scikit-learn in /usr/local/lib/python3.11/dist-packages (from sentence-transformers) (1.6.1)\n",
      "Requirement already satisfied: scipy in /usr/local/lib/python3.11/dist-packages (from sentence-transformers) (1.15.3)\n",
      "Requirement already satisfied: Pillow in /usr/local/lib/python3.11/dist-packages (from sentence-transformers) (11.2.1)\n",
      "Requirement already satisfied: typing_extensions>=4.5.0 in /usr/local/lib/python3.11/dist-packages (from sentence-transformers) (4.14.0)\n",
      "Requirement already satisfied: fsspec>=2023.5.0 in /usr/local/lib/python3.11/dist-packages (from huggingface-hub<1.0,>=0.30.0->transformers) (2025.3.0)\n",
      "Requirement already satisfied: hf-xet<2.0.0,>=1.1.2 in /usr/local/lib/python3.11/dist-packages (from huggingface-hub<1.0,>=0.30.0->transformers) (1.1.2)\n",
      "Requirement already satisfied: networkx in /usr/local/lib/python3.11/dist-packages (from torch>=1.11.0->sentence-transformers) (3.5)\n",
      "Requirement already satisfied: jinja2 in /usr/local/lib/python3.11/dist-packages (from torch>=1.11.0->sentence-transformers) (3.1.6)\n",
      "Collecting nvidia-cuda-nvrtc-cu12==12.4.127 (from torch>=1.11.0->sentence-transformers)\n",
      "  Downloading nvidia_cuda_nvrtc_cu12-12.4.127-py3-none-manylinux2014_x86_64.whl.metadata (1.5 kB)\n",
      "Collecting nvidia-cuda-runtime-cu12==12.4.127 (from torch>=1.11.0->sentence-transformers)\n",
      "  Downloading nvidia_cuda_runtime_cu12-12.4.127-py3-none-manylinux2014_x86_64.whl.metadata (1.5 kB)\n",
      "Collecting nvidia-cuda-cupti-cu12==12.4.127 (from torch>=1.11.0->sentence-transformers)\n",
      "  Downloading nvidia_cuda_cupti_cu12-12.4.127-py3-none-manylinux2014_x86_64.whl.metadata (1.6 kB)\n",
      "Collecting nvidia-cudnn-cu12==9.1.0.70 (from torch>=1.11.0->sentence-transformers)\n",
      "  Downloading nvidia_cudnn_cu12-9.1.0.70-py3-none-manylinux2014_x86_64.whl.metadata (1.6 kB)\n",
      "Collecting nvidia-cublas-cu12==12.4.5.8 (from torch>=1.11.0->sentence-transformers)\n",
      "  Downloading nvidia_cublas_cu12-12.4.5.8-py3-none-manylinux2014_x86_64.whl.metadata (1.5 kB)\n",
      "Collecting nvidia-cufft-cu12==11.2.1.3 (from torch>=1.11.0->sentence-transformers)\n",
      "  Downloading nvidia_cufft_cu12-11.2.1.3-py3-none-manylinux2014_x86_64.whl.metadata (1.5 kB)\n",
      "Collecting nvidia-curand-cu12==10.3.5.147 (from torch>=1.11.0->sentence-transformers)\n",
      "  Downloading nvidia_curand_cu12-10.3.5.147-py3-none-manylinux2014_x86_64.whl.metadata (1.5 kB)\n",
      "Collecting nvidia-cusolver-cu12==11.6.1.9 (from torch>=1.11.0->sentence-transformers)\n",
      "  Downloading nvidia_cusolver_cu12-11.6.1.9-py3-none-manylinux2014_x86_64.whl.metadata (1.6 kB)\n",
      "Collecting nvidia-cusparse-cu12==12.3.1.170 (from torch>=1.11.0->sentence-transformers)\n",
      "  Downloading nvidia_cusparse_cu12-12.3.1.170-py3-none-manylinux2014_x86_64.whl.metadata (1.6 kB)\n",
      "Requirement already satisfied: nvidia-cusparselt-cu12==0.6.2 in /usr/local/lib/python3.11/dist-packages (from torch>=1.11.0->sentence-transformers) (0.6.2)\n",
      "Requirement already satisfied: nvidia-nccl-cu12==2.21.5 in /usr/local/lib/python3.11/dist-packages (from torch>=1.11.0->sentence-transformers) (2.21.5)\n",
      "Requirement already satisfied: nvidia-nvtx-cu12==12.4.127 in /usr/local/lib/python3.11/dist-packages (from torch>=1.11.0->sentence-transformers) (12.4.127)\n",
      "Collecting nvidia-nvjitlink-cu12==12.4.127 (from torch>=1.11.0->sentence-transformers)\n",
      "  Downloading nvidia_nvjitlink_cu12-12.4.127-py3-none-manylinux2014_x86_64.whl.metadata (1.5 kB)\n",
      "Requirement already satisfied: triton==3.2.0 in /usr/local/lib/python3.11/dist-packages (from torch>=1.11.0->sentence-transformers) (3.2.0)\n",
      "Requirement already satisfied: sympy==1.13.1 in /usr/local/lib/python3.11/dist-packages (from torch>=1.11.0->sentence-transformers) (1.13.1)\n",
      "Requirement already satisfied: mpmath<1.4,>=1.1.0 in /usr/local/lib/python3.11/dist-packages (from sympy==1.13.1->torch>=1.11.0->sentence-transformers) (1.3.0)\n",
      "Requirement already satisfied: charset-normalizer<4,>=2 in /usr/local/lib/python3.11/dist-packages (from requests->transformers) (3.4.2)\n",
      "Requirement already satisfied: idna<4,>=2.5 in /usr/local/lib/python3.11/dist-packages (from requests->transformers) (3.10)\n",
      "Requirement already satisfied: urllib3<3,>=1.21.1 in /usr/local/lib/python3.11/dist-packages (from requests->transformers) (2.4.0)\n",
      "Requirement already satisfied: certifi>=2017.4.17 in /usr/local/lib/python3.11/dist-packages (from requests->transformers) (2025.4.26)\n",
      "Requirement already satisfied: joblib>=1.2.0 in /usr/local/lib/python3.11/dist-packages (from scikit-learn->sentence-transformers) (1.5.1)\n",
      "Requirement already satisfied: threadpoolctl>=3.1.0 in /usr/local/lib/python3.11/dist-packages (from scikit-learn->sentence-transformers) (3.6.0)\n",
      "Requirement already satisfied: MarkupSafe>=2.0 in /usr/local/lib/python3.11/dist-packages (from jinja2->torch>=1.11.0->sentence-transformers) (3.0.2)\n",
      "Downloading nvidia_cublas_cu12-12.4.5.8-py3-none-manylinux2014_x86_64.whl (363.4 MB)\n",
      "\u001b[2K   \u001b[90m━━━━━━━━━━━━━━━━━━━━━━━━━━━━━━━━━━━━━━━━\u001b[0m \u001b[32m363.4/363.4 MB\u001b[0m \u001b[31m3.8 MB/s\u001b[0m eta \u001b[36m0:00:00\u001b[0m\n",
      "\u001b[?25hDownloading nvidia_cuda_cupti_cu12-12.4.127-py3-none-manylinux2014_x86_64.whl (13.8 MB)\n",
      "\u001b[2K   \u001b[90m━━━━━━━━━━━━━━━━━━━━━━━━━━━━━━━━━━━━━━━━\u001b[0m \u001b[32m13.8/13.8 MB\u001b[0m \u001b[31m62.2 MB/s\u001b[0m eta \u001b[36m0:00:00\u001b[0m\n",
      "\u001b[?25hDownloading nvidia_cuda_nvrtc_cu12-12.4.127-py3-none-manylinux2014_x86_64.whl (24.6 MB)\n",
      "\u001b[2K   \u001b[90m━━━━━━━━━━━━━━━━━━━━━━━━━━━━━━━━━━━━━━━━\u001b[0m \u001b[32m24.6/24.6 MB\u001b[0m \u001b[31m50.1 MB/s\u001b[0m eta \u001b[36m0:00:00\u001b[0m\n",
      "\u001b[?25hDownloading nvidia_cuda_runtime_cu12-12.4.127-py3-none-manylinux2014_x86_64.whl (883 kB)\n",
      "\u001b[2K   \u001b[90m━━━━━━━━━━━━━━━━━━━━━━━━━━━━━━━━━━━━━━━━\u001b[0m \u001b[32m883.7/883.7 kB\u001b[0m \u001b[31m48.8 MB/s\u001b[0m eta \u001b[36m0:00:00\u001b[0m\n",
      "\u001b[?25hDownloading nvidia_cudnn_cu12-9.1.0.70-py3-none-manylinux2014_x86_64.whl (664.8 MB)\n",
      "\u001b[2K   \u001b[90m━━━━━━━━━━━━━━━━━━━━━━━━━━━━━━━━━━━━━━━━\u001b[0m \u001b[32m664.8/664.8 MB\u001b[0m \u001b[31m2.0 MB/s\u001b[0m eta \u001b[36m0:00:00\u001b[0m\n",
      "\u001b[?25hDownloading nvidia_cufft_cu12-11.2.1.3-py3-none-manylinux2014_x86_64.whl (211.5 MB)\n",
      "\u001b[2K   \u001b[90m━━━━━━━━━━━━━━━━━━━━━━━━━━━━━━━━━━━━━━━━\u001b[0m \u001b[32m211.5/211.5 MB\u001b[0m \u001b[31m2.3 MB/s\u001b[0m eta \u001b[36m0:00:00\u001b[0m\n",
      "\u001b[?25hDownloading nvidia_curand_cu12-10.3.5.147-py3-none-manylinux2014_x86_64.whl (56.3 MB)\n",
      "\u001b[2K   \u001b[90m━━━━━━━━━━━━━━━━━━━━━━━━━━━━━━━━━━━━━━━━\u001b[0m \u001b[32m56.3/56.3 MB\u001b[0m \u001b[31m12.9 MB/s\u001b[0m eta \u001b[36m0:00:00\u001b[0m\n",
      "\u001b[?25hDownloading nvidia_cusolver_cu12-11.6.1.9-py3-none-manylinux2014_x86_64.whl (127.9 MB)\n",
      "\u001b[2K   \u001b[90m━━━━━━━━━━━━━━━━━━━━━━━━━━━━━━━━━━━━━━━━\u001b[0m \u001b[32m127.9/127.9 MB\u001b[0m \u001b[31m9.2 MB/s\u001b[0m eta \u001b[36m0:00:00\u001b[0m\n",
      "\u001b[?25hDownloading nvidia_cusparse_cu12-12.3.1.170-py3-none-manylinux2014_x86_64.whl (207.5 MB)\n",
      "\u001b[2K   \u001b[90m━━━━━━━━━━━━━━━━━━━━━━━━━━━━━━━━━━━━━━━━\u001b[0m \u001b[32m207.5/207.5 MB\u001b[0m \u001b[31m5.6 MB/s\u001b[0m eta \u001b[36m0:00:00\u001b[0m\n",
      "\u001b[?25hDownloading nvidia_nvjitlink_cu12-12.4.127-py3-none-manylinux2014_x86_64.whl (21.1 MB)\n",
      "\u001b[2K   \u001b[90m━━━━━━━━━━━━━━━━━━━━━━━━━━━━━━━━━━━━━━━━\u001b[0m \u001b[32m21.1/21.1 MB\u001b[0m \u001b[31m33.4 MB/s\u001b[0m eta \u001b[36m0:00:00\u001b[0m\n",
      "\u001b[?25hInstalling collected packages: nvidia-nvjitlink-cu12, nvidia-curand-cu12, nvidia-cufft-cu12, nvidia-cuda-runtime-cu12, nvidia-cuda-nvrtc-cu12, nvidia-cuda-cupti-cu12, nvidia-cublas-cu12, nvidia-cusparse-cu12, nvidia-cudnn-cu12, nvidia-cusolver-cu12\n",
      "  Attempting uninstall: nvidia-nvjitlink-cu12\n",
      "    Found existing installation: nvidia-nvjitlink-cu12 12.5.82\n",
      "    Uninstalling nvidia-nvjitlink-cu12-12.5.82:\n",
      "      Successfully uninstalled nvidia-nvjitlink-cu12-12.5.82\n",
      "  Attempting uninstall: nvidia-curand-cu12\n",
      "    Found existing installation: nvidia-curand-cu12 10.3.6.82\n",
      "    Uninstalling nvidia-curand-cu12-10.3.6.82:\n",
      "      Successfully uninstalled nvidia-curand-cu12-10.3.6.82\n",
      "  Attempting uninstall: nvidia-cufft-cu12\n",
      "    Found existing installation: nvidia-cufft-cu12 11.2.3.61\n",
      "    Uninstalling nvidia-cufft-cu12-11.2.3.61:\n",
      "      Successfully uninstalled nvidia-cufft-cu12-11.2.3.61\n",
      "  Attempting uninstall: nvidia-cuda-runtime-cu12\n",
      "    Found existing installation: nvidia-cuda-runtime-cu12 12.5.82\n",
      "    Uninstalling nvidia-cuda-runtime-cu12-12.5.82:\n",
      "      Successfully uninstalled nvidia-cuda-runtime-cu12-12.5.82\n",
      "  Attempting uninstall: nvidia-cuda-nvrtc-cu12\n",
      "    Found existing installation: nvidia-cuda-nvrtc-cu12 12.5.82\n",
      "    Uninstalling nvidia-cuda-nvrtc-cu12-12.5.82:\n",
      "      Successfully uninstalled nvidia-cuda-nvrtc-cu12-12.5.82\n",
      "  Attempting uninstall: nvidia-cuda-cupti-cu12\n",
      "    Found existing installation: nvidia-cuda-cupti-cu12 12.5.82\n",
      "    Uninstalling nvidia-cuda-cupti-cu12-12.5.82:\n",
      "      Successfully uninstalled nvidia-cuda-cupti-cu12-12.5.82\n",
      "  Attempting uninstall: nvidia-cublas-cu12\n",
      "    Found existing installation: nvidia-cublas-cu12 12.5.3.2\n",
      "    Uninstalling nvidia-cublas-cu12-12.5.3.2:\n",
      "      Successfully uninstalled nvidia-cublas-cu12-12.5.3.2\n",
      "  Attempting uninstall: nvidia-cusparse-cu12\n",
      "    Found existing installation: nvidia-cusparse-cu12 12.5.1.3\n",
      "    Uninstalling nvidia-cusparse-cu12-12.5.1.3:\n",
      "      Successfully uninstalled nvidia-cusparse-cu12-12.5.1.3\n",
      "  Attempting uninstall: nvidia-cudnn-cu12\n",
      "    Found existing installation: nvidia-cudnn-cu12 9.3.0.75\n",
      "    Uninstalling nvidia-cudnn-cu12-9.3.0.75:\n",
      "      Successfully uninstalled nvidia-cudnn-cu12-9.3.0.75\n",
      "  Attempting uninstall: nvidia-cusolver-cu12\n",
      "    Found existing installation: nvidia-cusolver-cu12 11.6.3.83\n",
      "    Uninstalling nvidia-cusolver-cu12-11.6.3.83:\n",
      "      Successfully uninstalled nvidia-cusolver-cu12-11.6.3.83\n",
      "Successfully installed nvidia-cublas-cu12-12.4.5.8 nvidia-cuda-cupti-cu12-12.4.127 nvidia-cuda-nvrtc-cu12-12.4.127 nvidia-cuda-runtime-cu12-12.4.127 nvidia-cudnn-cu12-9.1.0.70 nvidia-cufft-cu12-11.2.1.3 nvidia-curand-cu12-10.3.5.147 nvidia-cusolver-cu12-11.6.1.9 nvidia-cusparse-cu12-12.3.1.170 nvidia-nvjitlink-cu12-12.4.127\n"
     ]
    }
   ],
   "source": [
    "# 2. Таблица с косинусным расстоянием\n",
    "!pip install transformers sentence-transformers"
   ]
  },
  {
   "cell_type": "code",
   "execution_count": null,
   "metadata": {
    "id": "slvnifbkguJx"
   },
   "outputs": [],
   "source": [
    "from sentence_transformers import SentenceTransformer\n",
    "from scipy.spatial.distance import cosine\n",
    "import torch\n",
    "from tqdm import tqdm"
   ]
  },
  {
   "cell_type": "code",
   "execution_count": null,
   "metadata": {
    "id": "udohV8COk1Le"
   },
   "outputs": [],
   "source": [
    "device = \"cuda\" if torch.cuda.is_available() else \"cpu\""
   ]
  },
  {
   "cell_type": "code",
   "execution_count": null,
   "metadata": {
    "colab": {
     "base_uri": "https://localhost:8080/",
     "height": 465,
     "referenced_widgets": [
      "45bd6633a57842a3bc9ce71e3b4e9974",
      "a991aad211fb49448d15e6bffb32ff2e",
      "7be961dc52b74a8dab9c6dbd24b7f73b",
      "9d670e2ce5294d58acee0b9d35a32049",
      "e3f88ab52b994a34909ba6c4c6c9238f",
      "2b8e5e25da2e4390aa6e68191c914eb5",
      "202c6c0c654b41fc98362e14077b3714",
      "92f10cac56504df49d9b663e05844d2f",
      "c26df3f98eed4030a3a7332bed7fed56",
      "36073bc0e2e246729c4051c2bac1356f",
      "bcb55f44713c4aa7a7dcd94a39c0ac87",
      "22135753221e4f64a1969b06a0d65962",
      "85ce7358cfc8457bbe309f6089349c61",
      "30ee0f33cf3c405fbe8cba6387698396",
      "f8da470b16a349218a7bf3f7a6e03248",
      "00b431a5750246e2bca5384266ac2c6a",
      "dadb76bde465453a8ca2849eb6cfeb14",
      "87efe5aaa0f04b358eb08e1a118c7ce1",
      "f5284202e69449829712e3114e090156",
      "eaa657c415dc4c01b7b0fabf8311537f",
      "81417570805842b2a3ea2cd3ad658c39",
      "5c73d62af3c4419c889ffbd68e9aba8b",
      "ff00016feecf4b0894bc5ef8a4b1840c",
      "ee247c7b43184f08bf0ba0d2417aa80a",
      "62d64d30ddf340acb0c97862bd8cd792",
      "1e000d04e25e4fc1b73c2968e1a61d24",
      "739ea703fa7b439ea2dd070aab45bf7e",
      "77cc04c7b1214be3a729384be5ff1315",
      "d9206e2be0634256afc3d031ccd06e93",
      "43c4f654dc434cb1adbc22e122de37ab",
      "7262ae81171f426b93345c6406d90b20",
      "c74e27a0499c483484a8447dcdda53fb",
      "2df59cca611440caabc583f2ef48ffc4",
      "92869f52b73e47ebadfeedc228e2fbad",
      "7dc711b6d5eb4c6992e7c97e3cfc9bbf",
      "287dab6cc4094556be55c878bfed1769",
      "ead7ea2bb8294fa9a9c2f84e9ce20027",
      "a1122f84ac744634873fe0e8e7cabfdb",
      "0a7856bc4e404d78bc338aa71d69eca9",
      "0fea14d5c1ed4001aa40b236235a3261",
      "bc468b6cf72f4041a48f38e963a50cab",
      "0896a74216e94e7d9322de78a0f5e007",
      "21baf9e04e2c4b5faedccf0a325a48e9",
      "80578c889c4e4920bf25c519a585a348",
      "293654d9ca474cc9aaab08fe8d461a49",
      "194e5afa94614c5c8ea7e2d11e9c7faa",
      "9b6b0ea1dab642fdb17c264034f4e57f",
      "19f34b034007449abe88c051c3108504",
      "18d5e8239ce04bae80fed1bb71a543f2",
      "86289d490175485b8600b9d64a4236a4",
      "dd702480066d43139801b9e2cc79e3cc",
      "e5e194ef0cba48d499d521e584aeb88c",
      "b307669e6e654d33ad59b28de83a255d",
      "9e764f67e3d74b609a88160579397211",
      "bb943fdc2a3b4199862961f4beb80de3",
      "32cd26293c4b496da149cf1232da639d",
      "40fb173ba5dd4cbaa0ce5fe390162d82",
      "cb10d8f9839b42f68f0a35051e012d5d",
      "0bd83ed9bd7c46f28468bf0ee8101cdc",
      "9351692f16c94a50ae5df592affb87c0",
      "c383c50a699d473bbadce07edf8682a5",
      "e4c2a10de58948aa94a1cdcea22b392a",
      "302ee0fa3dd740329298910e792079d1",
      "fbd83e33c3c1469f89a5daf1b196dc31",
      "c3479cddc9f74bbf857c92d297f4184d",
      "45a17f00bcc0475ea79be54baa27ef61",
      "2bc40af3b05a42579ec8efb9fc7a210a",
      "71756691ca0e4e5694d63c158d8eeb57",
      "226f827c16474c2a85182110fc91193e",
      "605e78d26f164129a986abd2a11ea769",
      "32f5c786d6ad4b59a008cc17b4f06759",
      "489ea7ca1cbf4e35ba381871e66a8a76",
      "d6577adf84224b56867272db51fb2682",
      "f897aa37feb54c6d88b40745a595788b",
      "f5b9cd36ad7d4eaea62d1f854e1a5ca4",
      "940792b90d5a4852b7bdf5ba7e323cf8",
      "b41b76b4aec242a2b699112cfd110683",
      "bea7eb6217504d88a73e2829b8fb0361",
      "12a1b2a41ea44a68842b556c9981d12d",
      "cf6410f5ed3f429bb20672cb549645a3",
      "63750a3f974047c7a7595da7f6921a13",
      "ece93ee623a54bd2ba17b24de0bbb787",
      "f276f6d68df64d459f8170086a7019b2",
      "b8c637ec9d8247af91313217caf4028b",
      "87e1734d46a64e409f388a63320524ce",
      "6087835b3dc040098169457ee1194500",
      "41d275d3f2964cfb8487fb2f7cad9b88",
      "9ecaf553ae0144fd85f134502effab4c",
      "d12e952eb5914301afe900e909654411",
      "6d1c2ba0a9224de2846f9dc7ca418de3",
      "acee4590f97944808c432e20cd48dae4",
      "c2f514e99a944c868564020df01386c1",
      "6cd231b2bd554388947242d9ab51634f",
      "a712d9f574fc4baaa4f9bf31ae925073",
      "3c91bb3c71ba473c8c01c2473e5f172e",
      "dc3fa5d84d8743648268ca27a7473644",
      "10cca5698d914aa4ad5c6b605884eab6",
      "9342638fa69a4a82998663a1d1fb5445",
      "9e5a26b0523041b289a98957d01abd03",
      "4638d11306e14e3aa62d32ebf447a2d6",
      "ba3559eec4d445ea9fc5c8c7bb9eee26",
      "bb9ffcafb19f459b966eefc4ca196a81",
      "b086a177184a4802bf34f13a1ebc1f39",
      "56d389a14b774570bc36ed65a65b57c7",
      "57ff087cfca2494fbd554c0e55ad279d",
      "57fd51354d744be39ef56cffaed1979b",
      "f05a8e97ab004f568ce861eb0523e6ec",
      "8f7c3ea3d93f422c9ea3b997f1d74b9b",
      "5776316d3a9d458dbc6e8534345619a0",
      "bcf27ef6a05e4112a18519125452fef6",
      "6860ad1d83e5439d9d3ecc986400b6a9",
      "bd6b1f1e5ef44f21b17a8a3e09ecc6dd",
      "41dc8e424c7f4b5c8c28ed8d2c0b9a40",
      "2d24792a640f4704b8f6bd682bbd2ec0",
      "4d4beb177aa84dfe8a0dbd8c78b58a0b",
      "fe47a18f0c654a6b8cdeb2a29908c7bf",
      "93d5cbb2089b4820996c1a8dbbdc0706",
      "51bda6c5352e4271b7c53ece5b79067e",
      "29f28ee7381747278ac6653d8932dddb",
      "9f42f8305f5044cfaf392cf1fe0f0b34",
      "e9521e9118024d44b6bb7ac8d333849b",
      "310c97cf415442848f01a35e46f488fd",
      "fc36f46fca1649ab96ea5247d171f9ce",
      "7eb8cda7eb9a44bf922b1f423e426fd3",
      "30340fc3aabd44ffb32967ef1f342c67",
      "4ada7fc34b494ba3a51d38b7263993ad",
      "65f4d0a0cb3d4c6ab493223d80add853",
      "79bc664c78e24a598a2870537efb0f3f",
      "066b3753de4b4fabaf9d7341e9218bc6",
      "8c0ce5eb1e514940933dbb0fc9c64ef2",
      "148afa43953345efae64b73804ad4a08",
      "9b62d98d923d4ab6a76c7271faa59839",
      "4a33e0e7086843159d5426e9d5916a4e",
      "e414b6f288cb4011bfc7ec3608721ebb",
      "8f504e914f9f493fb7db6bea91f9c263",
      "ce7a0cbfe31e4ded8994941743aa0ebc",
      "752061df9d754418a6defc4ed5ccb6ff",
      "be3c299c60f148518fc1dc360e827391",
      "9e4637983cfe48a6b187467139fede5c",
      "76290bb40d714348800de9ce2821ec3e",
      "7c0e0ecc4dda4ec7806aa920ea37933a",
      "bcb795d7ec404b07b28739e89143a140",
      "124d52700a024100941900e046d0005c",
      "0cd7c552f6dd45b4a05c2910ab310ee4",
      "1af104f3d52d4ab3b012803e574a4bf5",
      "504972f76cb242d18ff68c2f3d84c381",
      "e2370373900f41b18404ce2dc5a5d170",
      "d67b062ecd784e6abaf844c86ce43911",
      "3807029d60434f5f85ecd1f572bf8e7b",
      "d6d3b8f5010847dd932da4c4b98b1291",
      "c60e7e6ca34d4d4782ef62ed4ff075c2",
      "57b93df351944b079ecb0f42ce29ebfc",
      "67990e972e5944008bf3a50f7b6213b9",
      "cd47d00144174850b16056bd3c4c7d27"
     ]
    },
    "collapsed": true,
    "id": "CCozn-1tpJis",
    "outputId": "b1ed0c10-4d71-4b73-b78d-8ff495f2ec34"
   },
   "outputs": [
    {
     "data": {
      "application/vnd.jupyter.widget-view+json": {
       "model_id": "45bd6633a57842a3bc9ce71e3b4e9974",
       "version_major": 2,
       "version_minor": 0
      },
      "text/plain": [
       "modules.json:   0%|          | 0.00/461 [00:00<?, ?B/s]"
      ]
     },
     "metadata": {},
     "output_type": "display_data"
    },
    {
     "data": {
      "application/vnd.jupyter.widget-view+json": {
       "model_id": "22135753221e4f64a1969b06a0d65962",
       "version_major": 2,
       "version_minor": 0
      },
      "text/plain": [
       "config_sentence_transformers.json:   0%|          | 0.00/205 [00:00<?, ?B/s]"
      ]
     },
     "metadata": {},
     "output_type": "display_data"
    },
    {
     "data": {
      "application/vnd.jupyter.widget-view+json": {
       "model_id": "ff00016feecf4b0894bc5ef8a4b1840c",
       "version_major": 2,
       "version_minor": 0
      },
      "text/plain": [
       "README.md:   0%|          | 0.00/14.4k [00:00<?, ?B/s]"
      ]
     },
     "metadata": {},
     "output_type": "display_data"
    },
    {
     "data": {
      "application/vnd.jupyter.widget-view+json": {
       "model_id": "92869f52b73e47ebadfeedc228e2fbad",
       "version_major": 2,
       "version_minor": 0
      },
      "text/plain": [
       "sentence_bert_config.json:   0%|          | 0.00/53.0 [00:00<?, ?B/s]"
      ]
     },
     "metadata": {},
     "output_type": "display_data"
    },
    {
     "data": {
      "application/vnd.jupyter.widget-view+json": {
       "model_id": "293654d9ca474cc9aaab08fe8d461a49",
       "version_major": 2,
       "version_minor": 0
      },
      "text/plain": [
       "config.json:   0%|          | 0.00/860 [00:00<?, ?B/s]"
      ]
     },
     "metadata": {},
     "output_type": "display_data"
    },
    {
     "data": {
      "application/vnd.jupyter.widget-view+json": {
       "model_id": "32cd26293c4b496da149cf1232da639d",
       "version_major": 2,
       "version_minor": 0
      },
      "text/plain": [
       "model.safetensors:   0%|          | 0.00/1.88G [00:00<?, ?B/s]"
      ]
     },
     "metadata": {},
     "output_type": "display_data"
    },
    {
     "data": {
      "application/vnd.jupyter.widget-view+json": {
       "model_id": "2bc40af3b05a42579ec8efb9fc7a210a",
       "version_major": 2,
       "version_minor": 0
      },
      "text/plain": [
       "tokenizer_config.json:   0%|          | 0.00/1.27k [00:00<?, ?B/s]"
      ]
     },
     "metadata": {},
     "output_type": "display_data"
    },
    {
     "data": {
      "application/vnd.jupyter.widget-view+json": {
       "model_id": "bea7eb6217504d88a73e2829b8fb0361",
       "version_major": 2,
       "version_minor": 0
      },
      "text/plain": [
       "vocab.txt:   0%|          | 0.00/5.22M [00:00<?, ?B/s]"
      ]
     },
     "metadata": {},
     "output_type": "display_data"
    },
    {
     "data": {
      "application/vnd.jupyter.widget-view+json": {
       "model_id": "d12e952eb5914301afe900e909654411",
       "version_major": 2,
       "version_minor": 0
      },
      "text/plain": [
       "tokenizer.json:   0%|          | 0.00/13.6M [00:00<?, ?B/s]"
      ]
     },
     "metadata": {},
     "output_type": "display_data"
    },
    {
     "data": {
      "application/vnd.jupyter.widget-view+json": {
       "model_id": "4638d11306e14e3aa62d32ebf447a2d6",
       "version_major": 2,
       "version_minor": 0
      },
      "text/plain": [
       "special_tokens_map.json:   0%|          | 0.00/695 [00:00<?, ?B/s]"
      ]
     },
     "metadata": {},
     "output_type": "display_data"
    },
    {
     "data": {
      "application/vnd.jupyter.widget-view+json": {
       "model_id": "6860ad1d83e5439d9d3ecc986400b6a9",
       "version_major": 2,
       "version_minor": 0
      },
      "text/plain": [
       "config.json:   0%|          | 0.00/296 [00:00<?, ?B/s]"
      ]
     },
     "metadata": {},
     "output_type": "display_data"
    },
    {
     "data": {
      "application/vnd.jupyter.widget-view+json": {
       "model_id": "310c97cf415442848f01a35e46f488fd",
       "version_major": 2,
       "version_minor": 0
      },
      "text/plain": [
       "config.json:   0%|          | 0.00/114 [00:00<?, ?B/s]"
      ]
     },
     "metadata": {},
     "output_type": "display_data"
    },
    {
     "data": {
      "application/vnd.jupyter.widget-view+json": {
       "model_id": "4a33e0e7086843159d5426e9d5916a4e",
       "version_major": 2,
       "version_minor": 0
      },
      "text/plain": [
       "model.safetensors:   0%|          | 0.00/2.36M [00:00<?, ?B/s]"
      ]
     },
     "metadata": {},
     "output_type": "display_data"
    },
    {
     "data": {
      "application/vnd.jupyter.widget-view+json": {
       "model_id": "0cd7c552f6dd45b4a05c2910ab310ee4",
       "version_major": 2,
       "version_minor": 0
      },
      "text/plain": [
       "pytorch_model.bin:   0%|          | 0.00/2.36M [00:00<?, ?B/s]"
      ]
     },
     "metadata": {},
     "output_type": "display_data"
    }
   ],
   "source": [
    "model = SentenceTransformer('lingtrain/labse-udmurt').to(device)"
   ]
  },
  {
   "cell_type": "code",
   "execution_count": null,
   "metadata": {
    "colab": {
     "base_uri": "https://localhost:8080/"
    },
    "id": "Yw1Pdn6mgwhm",
    "outputId": "1f019ace-ffc2-432a-b0dd-cad14c457ef0"
   },
   "outputs": [
    {
     "name": "stderr",
     "output_type": "stream",
     "text": [
      "Кодирование предложений: 100%|██████████| 796/796 [04:55<00:00,  2.70it/s]\n",
      "Кодирование предложений: 100%|██████████| 796/796 [03:37<00:00,  3.67it/s]\n",
      "Расчет расстояний: 100%|██████████| 101833/101833 [00:03<00:00, 28316.16it/s]\n"
     ]
    }
   ],
   "source": [
    "# Функция для пакетной обработки\n",
    "def batch_encode(texts, batch_size=128):\n",
    "    embeddings = []\n",
    "    for i in tqdm(range(0, len(texts), batch_size), desc=\"Кодирование предложений\"):\n",
    "        batch = texts[i:i+batch_size]\n",
    "        emb = model.encode(batch, convert_to_tensor=True, device=device)\n",
    "        embeddings.append(emb.cpu())\n",
    "    return torch.cat(embeddings)\n",
    "\n",
    "# Кодирование предложений пачками\n",
    "udm_embeddings = batch_encode(df['udm'].tolist())\n",
    "ru_embeddings = batch_encode(df['ru'].tolist())\n",
    "\n",
    "# Вычисление косинусного расстояния\n",
    "cosine_dists = []\n",
    "for udm, ru in tqdm(zip(udm_embeddings, ru_embeddings), total=len(df), desc=\"Расчет расстояний\"):\n",
    "    similarity = torch.nn.functional.cosine_similarity(udm, ru, dim=0)\n",
    "    cosine_dists.append(float(1 - similarity))  # Преобразуем расстояние в диапазон [0, 2]\n",
    "\n",
    "# Добавление столбца в DataFrame\n",
    "df['cosine_distance'] = cosine_dists"
   ]
  },
  {
   "cell_type": "code",
   "execution_count": null,
   "metadata": {
    "id": "QAge1FtRgy-D"
   },
   "outputs": [],
   "source": [
    "# Сохраняем результат\n",
    "df.to_csv('udmurt_russian_with_distances.csv', index=False)"
   ]
  },
  {
   "cell_type": "code",
   "execution_count": null,
   "metadata": {
    "id": "2tA4oPxBg0sn"
   },
   "outputs": [],
   "source": [
    "# # Загружаем модель ☠️☠️☠️\n",
    "# model = SentenceTransformer('lingtrain/labse-udmurt')\n",
    "\n",
    "# def calculate_cosine_distance(row):\n",
    "#     # Получаем эмбеддинги\n",
    "#     udm_embedding = model.encode(row['udm'], convert_to_tensor=False)\n",
    "#     ru_embedding = model.encode(row['ru'], convert_to_tensor=False)\n",
    "\n",
    "#     # Вычисляем косинусное расстояние (0-1)\n",
    "#     cos_sim = 1 - cosine(udm_embedding, ru_embedding)\n",
    "#     cos_distance = 1 - cos_sim  # расстояние = 1 - сходство\n",
    "\n",
    "#     return round(cos_distance, 4)\n",
    "\n",
    "# # Добавляем новую колонку (это может занять время)\n",
    "# df['cosine_distance'] = df.apply(calculate_cosine_distance, axis=1)\n",
    "\n",
    "# # Сохраняем результат\n",
    "# df.to_csv('udmurt_russian_with_distances.csv', index=False)"
   ]
  },
  {
   "cell_type": "code",
   "execution_count": null,
   "metadata": {
    "colab": {
     "base_uri": "https://localhost:8080/",
     "height": 646
    },
    "id": "qPhVLoi6g2yj",
    "outputId": "0e48b4ea-2217-4e79-abb6-c7a3ad576bc6"
   },
   "outputs": [
    {
     "data": {
      "image/png": "[encoded data removed]",
      "text/plain": [
       "<Figure size 1200x700 with 1 Axes>"
      ]
     },
     "metadata": {},
     "output_type": "display_data"
    }
   ],
   "source": [
    "# 3. Визуализация распределения косинусных расстояний\n",
    "plt.figure(figsize=(12, 7))\n",
    "sns.kdeplot(df['cosine_distance'], fill=True, color='skyblue')\n",
    "\n",
    "# Рассчитываем статистики\n",
    "mean_dist = df['cosine_distance'].mean()\n",
    "median_dist = df['cosine_distance'].median()\n",
    "\n",
    "# Добавляем линии статистик\n",
    "plt.axvline(mean_dist, color='red', linestyle='--', label=f'Среднее: {mean_dist:.3f}')\n",
    "plt.axvline(median_dist, color='green', linestyle='-', label=f'Медиана: {median_dist:.3f}')\n",
    "\n",
    "plt.title('Распределение косинусных расстояний между параллельными предложениями', fontsize=14)\n",
    "plt.xlabel('Косинусное расстояние', fontsize=12)\n",
    "plt.ylabel('Плотность', fontsize=12)\n",
    "plt.legend()\n",
    "plt.grid(True, alpha=0.2)\n",
    "plt.show()"
   ]
  },
  {
   "cell_type": "code",
   "execution_count": null,
   "metadata": {
    "colab": {
     "base_uri": "https://localhost:8080/"
    },
    "id": "Qv_vlj0cg6Hq",
    "outputId": "21675525-beb2-487a-f67c-a84f737a9694"
   },
   "outputs": [
    {
     "name": "stdout",
     "output_type": "stream",
     "text": [
      "\n",
      "Пример #11179 | Расстояние: -0.0000\n",
      "Удмуртский: — Вова?\n",
      "Русский: — Вова?\n",
      "--------------------------------------------------------------------------------\n",
      "\n",
      "Пример #16722 | Расстояние: -0.0000\n",
      "Удмуртский: — Тю!\n",
      "Русский: — Тю!\n",
      "--------------------------------------------------------------------------------\n",
      "\n",
      "Пример #17479 | Расстояние: -0.0000\n",
      "Удмуртский: — Важенин Влас Иванович!\n",
      "Русский: — Важенин Влас Иванович!\n",
      "--------------------------------------------------------------------------------\n",
      "\n",
      "Пример #18300 | Расстояние: -0.0000\n",
      "Удмуртский: Гражданин Лазарев!.. Жученков!.. Зябрев!..\n",
      "Русский: Гражданин Лазарев!.. Жученков!.. Зябрев!..\n",
      "--------------------------------------------------------------------------------\n",
      "\n",
      "Пример #18596 | Расстояние: -0.0000\n",
      "Удмуртский: — Винтовка.\n",
      "Русский: — Винтовка.\n",
      "--------------------------------------------------------------------------------\n",
      "\n",
      "Пример #25091 | Расстояние: -0.0000\n",
      "Удмуртский: Тимка!\n",
      "Русский: Тимка!\n",
      "--------------------------------------------------------------------------------\n",
      "\n",
      "Пример #83514 | Расстояние: -0.0000\n",
      "Удмуртский: Се-е-е-нька!\n",
      "Русский: Се-е-е-нька!\n",
      "--------------------------------------------------------------------------------\n",
      "\n",
      "Пример #83656 | Расстояние: -0.0000\n",
      "Удмуртский: 3\n",
      "Русский: 3\n",
      "--------------------------------------------------------------------------------\n",
      "\n",
      "Пример #83895 | Расстояние: -0.0000\n",
      "Удмуртский: 4\n",
      "Русский: 4\n",
      "--------------------------------------------------------------------------------\n",
      "\n",
      "Пример #84908 | Расстояние: -0.0000\n",
      "Удмуртский: 4\n",
      "Русский: 4\n",
      "--------------------------------------------------------------------------------\n",
      "\n",
      "Пример #85787 | Расстояние: -0.0000\n",
      "Удмуртский: 7\n",
      "Русский: 7\n",
      "--------------------------------------------------------------------------------\n",
      "\n",
      "Пример #86486 | Расстояние: -0.0000\n",
      "Удмуртский: 17\n",
      "Русский: 17\n",
      "--------------------------------------------------------------------------------\n",
      "\n",
      "Пример #96934 | Расстояние: -0.0000\n",
      "Удмуртский: Э-э!..\n",
      "Русский: Э-э!..\n",
      "--------------------------------------------------------------------------------\n",
      "\n",
      "Пример #1221 | Расстояние: -0.0000\n",
      "Удмуртский: Вот!\n",
      "Русский: Вот!\n",
      "--------------------------------------------------------------------------------\n",
      "\n",
      "Пример #1287 | Расстояние: -0.0000\n",
      "Удмуртский: Вот!\n",
      "Русский: Вот!\n",
      "--------------------------------------------------------------------------------\n",
      "\n",
      "Пример #1301 | Расстояние: -0.0000\n",
      "Удмуртский: — Вот.\n",
      "Русский: — Вот.\n",
      "--------------------------------------------------------------------------------\n",
      "\n",
      "Пример #1456 | Расстояние: -0.0000\n",
      "Удмуртский: — Директор!..\n",
      "Русский: — Директор!..\n",
      "--------------------------------------------------------------------------------\n",
      "\n",
      "Пример #1855 | Расстояние: -0.0000\n",
      "Удмуртский: — Ага!\n",
      "Русский: — Ага!\n",
      "--------------------------------------------------------------------------------\n",
      "\n",
      "Пример #2263 | Расстояние: -0.0000\n",
      "Удмуртский: — Аз...\n",
      "Русский: — Аз...\n",
      "--------------------------------------------------------------------------------\n",
      "\n",
      "Пример #3138 | Расстояние: -0.0000\n",
      "Удмуртский: — У-у-у!\n",
      "Русский: — У-у-у!\n",
      "--------------------------------------------------------------------------------\n"
     ]
    }
   ],
   "source": [
    "# 4. Примеры с низким косинусным расстоянием\n",
    "low_distance_samples = df.nsmallest(20, 'cosine_distance')\n",
    "\n",
    "# Выводим примеры\n",
    "for idx, row in low_distance_samples.iterrows():\n",
    "    print(f\"Пример #{idx+1} | Расстояние: {row['cosine_distance']:.4f}\")\n",
    "    print(f\"Удмуртский: {row['udm']}\")\n",
    "    print(f\"Русский: {row['ru']}\")\n",
    "    print(\"-\" * 80)"
   ]
  },
  {
   "cell_type": "code",
   "execution_count": null,
   "metadata": {
    "colab": {
     "base_uri": "https://localhost:8080/",
     "height": 580
    },
    "id": "lHnpN9kHg6C2",
    "outputId": "5fdd1fab-be0f-49c9-e1a7-21b352bb7d3f"
   },
   "outputs": [
    {
     "data": {
      "image/png": "[encoded data removed]",
      "text/plain": [
       "<Figure size 1500x600 with 2 Axes>"
      ]
     },
     "metadata": {},
     "output_type": "display_data"
    }
   ],
   "source": [
    "# 5. Логарифмирование графиков распределения длин\n",
    "fig, axes = plt.subplots(1, 2, figsize=(15, 6))\n",
    "\n",
    "# Для удмуртского языка\n",
    "sns.histplot(df['udm_len'], bins=50, kde=True, log_scale=[False, True], ax=axes[0])\n",
    "axes[0].set_title('Удмуртский: распределение длин предложений (логарифм)', fontsize=12)\n",
    "axes[0].set_xlabel('Длина предложения (токены)', fontsize=10)\n",
    "axes[0].set_ylabel('Частота (log)', fontsize=10)\n",
    "\n",
    "# Для русского языка\n",
    "sns.histplot(df['ru_len'], bins=50, kde=True, log_scale=[False, True], ax=axes[1])\n",
    "axes[1].set_title('Русский: распределение длин предложений (логарифм)', fontsize=12)\n",
    "axes[1].set_xlabel('Длина предложения (токены)', fontsize=10)\n",
    "\n",
    "plt.tight_layout()\n",
    "plt.show()"
   ]
  }
 ],
 "metadata": {
  "accelerator": "GPU",
  "colab": {
   "gpuType": "T4",
   "provenance": []
  },
  "kernelspec": {
   "display_name": "Python 3",
   "name": "python3"
  },
  "language_info": {
   "name": "python"
  }
 },
 "nbformat": 4,
 "nbformat_minor": 0
}
