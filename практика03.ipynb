{
 "cells": [
  {
   "cell_type": "code",
   "execution_count": null,
   "metadata": {
    "colab": {
     "base_uri": "https://localhost:8080/",
     "height": 1000
    },
    "collapsed": true,
    "id": "L-gtac0Bs3w_",
    "outputId": "69896ba9-02da-412c-b701-b1b13af30f13"
   },
   "outputs": [
    {
     "name": "stdout",
     "output_type": "stream",
     "text": [
      "Requirement already satisfied: datasets in /usr/local/lib/python3.11/dist-packages (2.14.4)\n",
      "Collecting datasets\n",
      "  Downloading datasets-3.6.0-py3-none-any.whl.metadata (19 kB)\n",
      "Requirement already satisfied: filelock in /usr/local/lib/python3.11/dist-packages (from datasets) (3.18.0)\n",
      "Requirement already satisfied: numpy>=1.17 in /usr/local/lib/python3.11/dist-packages (from datasets) (2.0.2)\n",
      "Requirement already satisfied: pyarrow>=15.0.0 in /usr/local/lib/python3.11/dist-packages (from datasets) (18.1.0)\n",
      "Requirement already satisfied: dill<0.3.9,>=0.3.0 in /usr/local/lib/python3.11/dist-packages (from datasets) (0.3.7)\n",
      "Requirement already satisfied: pandas in /usr/local/lib/python3.11/dist-packages (from datasets) (2.2.2)\n",
      "Requirement already satisfied: requests>=2.32.2 in /usr/local/lib/python3.11/dist-packages (from datasets) (2.32.3)\n",
      "Requirement already satisfied: tqdm>=4.66.3 in /usr/local/lib/python3.11/dist-packages (from datasets) (4.67.1)\n",
      "Requirement already satisfied: xxhash in /usr/local/lib/python3.11/dist-packages (from datasets) (3.5.0)\n",
      "Requirement already satisfied: multiprocess<0.70.17 in /usr/local/lib/python3.11/dist-packages (from datasets) (0.70.15)\n",
      "Collecting fsspec<=2025.3.0,>=2023.1.0 (from fsspec[http]<=2025.3.0,>=2023.1.0->datasets)\n",
      "  Downloading fsspec-2025.3.0-py3-none-any.whl.metadata (11 kB)\n",
      "Requirement already satisfied: huggingface-hub>=0.24.0 in /usr/local/lib/python3.11/dist-packages (from datasets) (0.33.0)\n",
      "Requirement already satisfied: packaging in /usr/local/lib/python3.11/dist-packages (from datasets) (24.2)\n",
      "Requirement already satisfied: pyyaml>=5.1 in /usr/local/lib/python3.11/dist-packages (from datasets) (6.0.2)\n",
      "Requirement already satisfied: aiohttp!=4.0.0a0,!=4.0.0a1 in /usr/local/lib/python3.11/dist-packages (from fsspec[http]<=2025.3.0,>=2023.1.0->datasets) (3.11.15)\n",
      "Requirement already satisfied: typing-extensions>=3.7.4.3 in /usr/local/lib/python3.11/dist-packages (from huggingface-hub>=0.24.0->datasets) (4.14.0)\n",
      "Requirement already satisfied: hf-xet<2.0.0,>=1.1.2 in /usr/local/lib/python3.11/dist-packages (from huggingface-hub>=0.24.0->datasets) (1.1.5)\n",
      "Requirement already satisfied: charset-normalizer<4,>=2 in /usr/local/lib/python3.11/dist-packages (from requests>=2.32.2->datasets) (3.4.2)\n",
      "Requirement already satisfied: idna<4,>=2.5 in /usr/local/lib/python3.11/dist-packages (from requests>=2.32.2->datasets) (3.10)\n",
      "Requirement already satisfied: urllib3<3,>=1.21.1 in /usr/local/lib/python3.11/dist-packages (from requests>=2.32.2->datasets) (2.4.0)\n",
      "Requirement already satisfied: certifi>=2017.4.17 in /usr/local/lib/python3.11/dist-packages (from requests>=2.32.2->datasets) (2025.6.15)\n",
      "Requirement already satisfied: python-dateutil>=2.8.2 in /usr/local/lib/python3.11/dist-packages (from pandas->datasets) (2.9.0.post0)\n",
      "Requirement already satisfied: pytz>=2020.1 in /usr/local/lib/python3.11/dist-packages (from pandas->datasets) (2025.2)\n",
      "Requirement already satisfied: tzdata>=2022.7 in /usr/local/lib/python3.11/dist-packages (from pandas->datasets) (2025.2)\n",
      "Requirement already satisfied: aiohappyeyeballs>=2.3.0 in /usr/local/lib/python3.11/dist-packages (from aiohttp!=4.0.0a0,!=4.0.0a1->fsspec[http]<=2025.3.0,>=2023.1.0->datasets) (2.6.1)\n",
      "Requirement already satisfied: aiosignal>=1.1.2 in /usr/local/lib/python3.11/dist-packages (from aiohttp!=4.0.0a0,!=4.0.0a1->fsspec[http]<=2025.3.0,>=2023.1.0->datasets) (1.3.2)\n",
      "Requirement already satisfied: attrs>=17.3.0 in /usr/local/lib/python3.11/dist-packages (from aiohttp!=4.0.0a0,!=4.0.0a1->fsspec[http]<=2025.3.0,>=2023.1.0->datasets) (25.3.0)\n",
      "Requirement already satisfied: frozenlist>=1.1.1 in /usr/local/lib/python3.11/dist-packages (from aiohttp!=4.0.0a0,!=4.0.0a1->fsspec[http]<=2025.3.0,>=2023.1.0->datasets) (1.7.0)\n",
      "Requirement already satisfied: multidict<7.0,>=4.5 in /usr/local/lib/python3.11/dist-packages (from aiohttp!=4.0.0a0,!=4.0.0a1->fsspec[http]<=2025.3.0,>=2023.1.0->datasets) (6.5.0)\n",
      "Requirement already satisfied: propcache>=0.2.0 in /usr/local/lib/python3.11/dist-packages (from aiohttp!=4.0.0a0,!=4.0.0a1->fsspec[http]<=2025.3.0,>=2023.1.0->datasets) (0.3.2)\n",
      "Requirement already satisfied: yarl<2.0,>=1.17.0 in /usr/local/lib/python3.11/dist-packages (from aiohttp!=4.0.0a0,!=4.0.0a1->fsspec[http]<=2025.3.0,>=2023.1.0->datasets) (1.20.1)\n",
      "Requirement already satisfied: six>=1.5 in /usr/local/lib/python3.11/dist-packages (from python-dateutil>=2.8.2->pandas->datasets) (1.17.0)\n",
      "Downloading datasets-3.6.0-py3-none-any.whl (491 kB)\n",
      "\u001b[2K   \u001b[90m━━━━━━━━━━━━━━━━━━━━━━━━━━━━━━━━━━━━━━━━\u001b[0m \u001b[32m491.5/491.5 kB\u001b[0m \u001b[31m9.9 MB/s\u001b[0m eta \u001b[36m0:00:00\u001b[0m\n",
      "\u001b[?25hDownloading fsspec-2025.3.0-py3-none-any.whl (193 kB)\n",
      "\u001b[2K   \u001b[90m━━━━━━━━━━━━━━━━━━━━━━━━━━━━━━━━━━━━━━━━\u001b[0m \u001b[32m193.6/193.6 kB\u001b[0m \u001b[31m16.3 MB/s\u001b[0m eta \u001b[36m0:00:00\u001b[0m\n",
      "\u001b[?25hInstalling collected packages: fsspec, datasets\n",
      "  Attempting uninstall: fsspec\n",
      "    Found existing installation: fsspec 2025.3.2\n",
      "    Uninstalling fsspec-2025.3.2:\n",
      "      Successfully uninstalled fsspec-2025.3.2\n",
      "  Attempting uninstall: datasets\n",
      "    Found existing installation: datasets 2.14.4\n",
      "    Uninstalling datasets-2.14.4:\n",
      "      Successfully uninstalled datasets-2.14.4\n",
      "\u001b[31mERROR: pip's dependency resolver does not currently take into account all the packages that are installed. This behaviour is the source of the following dependency conflicts.\n",
      "torch 2.6.0+cu124 requires nvidia-cublas-cu12==12.4.5.8; platform_system == \"Linux\" and platform_machine == \"x86_64\", but you have nvidia-cublas-cu12 12.5.3.2 which is incompatible.\n",
      "torch 2.6.0+cu124 requires nvidia-cuda-cupti-cu12==12.4.127; platform_system == \"Linux\" and platform_machine == \"x86_64\", but you have nvidia-cuda-cupti-cu12 12.5.82 which is incompatible.\n",
      "torch 2.6.0+cu124 requires nvidia-cuda-nvrtc-cu12==12.4.127; platform_system == \"Linux\" and platform_machine == \"x86_64\", but you have nvidia-cuda-nvrtc-cu12 12.5.82 which is incompatible.\n",
      "torch 2.6.0+cu124 requires nvidia-cuda-runtime-cu12==12.4.127; platform_system == \"Linux\" and platform_machine == \"x86_64\", but you have nvidia-cuda-runtime-cu12 12.5.82 which is incompatible.\n",
      "torch 2.6.0+cu124 requires nvidia-cudnn-cu12==9.1.0.70; platform_system == \"Linux\" and platform_machine == \"x86_64\", but you have nvidia-cudnn-cu12 9.3.0.75 which is incompatible.\n",
      "torch 2.6.0+cu124 requires nvidia-cufft-cu12==11.2.1.3; platform_system == \"Linux\" and platform_machine == \"x86_64\", but you have nvidia-cufft-cu12 11.2.3.61 which is incompatible.\n",
      "torch 2.6.0+cu124 requires nvidia-curand-cu12==10.3.5.147; platform_system == \"Linux\" and platform_machine == \"x86_64\", but you have nvidia-curand-cu12 10.3.6.82 which is incompatible.\n",
      "torch 2.6.0+cu124 requires nvidia-cusolver-cu12==11.6.1.9; platform_system == \"Linux\" and platform_machine == \"x86_64\", but you have nvidia-cusolver-cu12 11.6.3.83 which is incompatible.\n",
      "torch 2.6.0+cu124 requires nvidia-cusparse-cu12==12.3.1.170; platform_system == \"Linux\" and platform_machine == \"x86_64\", but you have nvidia-cusparse-cu12 12.5.1.3 which is incompatible.\n",
      "torch 2.6.0+cu124 requires nvidia-nvjitlink-cu12==12.4.127; platform_system == \"Linux\" and platform_machine == \"x86_64\", but you have nvidia-nvjitlink-cu12 12.5.82 which is incompatible.\n",
      "gcsfs 2025.3.2 requires fsspec==2025.3.2, but you have fsspec 2025.3.0 which is incompatible.\u001b[0m\u001b[31m\n",
      "\u001b[0mSuccessfully installed datasets-3.6.0 fsspec-2025.3.0\n"
     ]
    },
    {
     "data": {
      "application/vnd.colab-display-data+json": {
       "id": "f8b84cdf5fa8442a84e700f17d70c831",
       "pip_warning": {
        "packages": [
         "datasets",
         "fsspec"
        ]
       }
      }
     },
     "metadata": {},
     "output_type": "display_data"
    }
   ],
   "source": [
    "!pip install -U datasets"
   ]
  },
  {
   "cell_type": "code",
   "execution_count": null,
   "metadata": {
    "id": "Umkx8K5BgEfo"
   },
   "outputs": [],
   "source": [
    "import pandas as pd\n",
    "import numpy as np\n",
    "import seaborn as sns\n",
    "import matplotlib.pyplot as plt\n",
    "from datasets import load_dataset\n",
    "from collections import Counter\n",
    "import re\n",
    "import nltk"
   ]
  },
  {
   "cell_type": "code",
   "execution_count": null,
   "metadata": {
    "colab": {
     "base_uri": "https://localhost:8080/"
    },
    "id": "Uuf-VaqFgKe_",
    "outputId": "0686a024-5993-41d4-82c5-ec1eb414b39f"
   },
   "outputs": [
    {
     "name": "stderr",
     "output_type": "stream",
     "text": [
      "[nltk_data] Downloading package punkt to /root/nltk_data...\n",
      "[nltk_data]   Package punkt is already up-to-date!\n"
     ]
    },
    {
     "data": {
      "text/plain": [
       "True"
      ]
     },
     "execution_count": 2,
     "metadata": {},
     "output_type": "execute_result"
    }
   ],
   "source": [
    "nltk.download('punkt')"
   ]
  },
  {
   "cell_type": "code",
   "execution_count": null,
   "metadata": {
    "colab": {
     "base_uri": "https://localhost:8080/",
     "height": 217,
     "referenced_widgets": [
      "ec8b63e9e6714247b5268be2671de8e8",
      "e32acaa530b14849800146b69d9982ba",
      "a50db9a3e3574afcb8724ff942871093",
      "a9d28d590d604070bb3c6c48a7b59677",
      "5d32f7c3c1f14a22a25a58c32b4d203d",
      "3af17a276a7e46e782a23d4c20fc08fe",
      "dd0e13416afb4600bc99ce72d82bc5be",
      "c5d4bf3a918443938d0fbbeb919bcd54",
      "817b0f87e7d84de3833092a231094291",
      "e31542f1855b4bb5acafb60688e8d112",
      "a3441779a9034d91bc9822c3ac101e49",
      "4471de3958804170b58b5d368b382d09",
      "5be80f56512147a0ae9f4d8e4872e0c7",
      "2ebe4021310047ac835ab7e0d73d3ef4",
      "a0b45354c4c5469fad48d05b900bfe30",
      "32410b6924c54388bfc386b9eb5834f1",
      "6c76bf9ca7904379b41aa5e756fb01b3",
      "4e117175fe124f5d84fa7f1e1af35f43",
      "875e66641d724f56afef6d969648ca1c",
      "cfdf5f01517849d0a37c251821e860c8",
      "aa5b6feceeec420696d29fc223ea4f5e",
      "6fae57c6b8d34e4fb53d135c7a703ba7",
      "4a740411ad4349789343b797f194c264",
      "6339d81819fb4e7398eef5585259915d",
      "00acd1ee87f64db6a7f9d768131ecc1e",
      "05562ed7e23f41c2b8d8248109991cc0",
      "24cdde27f0aa4699bf58e31ed89bc5be",
      "01ddd282737844edacc06c157d86880f",
      "c0f471cef84b4385855499c91d90caf8",
      "1aaf68ac2b45413a8d9ff441baa15b19",
      "18f491feab984655b0b8be3d8c3a8618",
      "6f064e23186e4d18a74417957205af04",
      "d4c5e613daef40fd8c0624556842df30"
     ]
    },
    "id": "n4wCMxBtgNqU",
    "outputId": "7add3e6a-b443-42a6-c0f2-9b765ba23f9d"
   },
   "outputs": [
    {
     "name": "stderr",
     "output_type": "stream",
     "text": [
      "/usr/local/lib/python3.11/dist-packages/huggingface_hub/utils/_auth.py:94: UserWarning: \n",
      "The secret `HF_TOKEN` does not exist in your Colab secrets.\n",
      "To authenticate with the Hugging Face Hub, create a token in your settings tab (https://huggingface.co/settings/tokens), set it as secret in your Google Colab and restart your session.\n",
      "You will be able to reuse this secret in all of your notebooks.\n",
      "Please note that authentication is recommended but still optional to access public models or datasets.\n",
      "  warnings.warn(\n"
     ]
    },
    {
     "data": {
      "application/vnd.jupyter.widget-view+json": {
       "model_id": "ec8b63e9e6714247b5268be2671de8e8",
       "version_major": 2,
       "version_minor": 0
      },
      "text/plain": [
       "README.md: 0.00B [00:00, ?B/s]"
      ]
     },
     "metadata": {},
     "output_type": "display_data"
    },
    {
     "data": {
      "application/vnd.jupyter.widget-view+json": {
       "model_id": "4471de3958804170b58b5d368b382d09",
       "version_major": 2,
       "version_minor": 0
      },
      "text/plain": [
       "train-00000-of-00001.parquet:   0%|          | 0.00/13.1M [00:00<?, ?B/s]"
      ]
     },
     "metadata": {},
     "output_type": "display_data"
    },
    {
     "data": {
      "application/vnd.jupyter.widget-view+json": {
       "model_id": "4a740411ad4349789343b797f194c264",
       "version_major": 2,
       "version_minor": 0
      },
      "text/plain": [
       "Generating train split:   0%|          | 0/101833 [00:00<?, ? examples/s]"
      ]
     },
     "metadata": {},
     "output_type": "display_data"
    }
   ],
   "source": [
    "dataset = load_dataset(\"udmurtNLP/udmurt-russian-parallel-corpora\")"
   ]
  },
  {
   "cell_type": "code",
   "execution_count": null,
   "metadata": {
    "id": "sD3wWFnZgNlq"
   },
   "outputs": [],
   "source": [
    "df = pd.DataFrame(dataset['train'])"
   ]
  },
  {
   "cell_type": "code",
   "execution_count": null,
   "metadata": {
    "id": "W7gVCfUagNg7"
   },
   "outputs": [],
   "source": [
    "def count_words(text, lang='other'):\n",
    "    #Количество слов\n",
    "    #For agglutinative languages, we may need complex word segmenter based on morphological analysis.(?)\n",
    "    return len(text.split())\n",
    "\n",
    "def count_chars(text):\n",
    "    #символы\n",
    "    return len(text)\n",
    "\n",
    "def count_tokens(text, tokenizer=None):\n",
    "    #токен\n",
    "    if tokenizer is None:\n",
    "        return len(text.split())\n",
    "    else:\n",
    "        return len(tokenizer.tokenize(text))"
   ]
  },
  {
   "cell_type": "code",
   "execution_count": null,
   "metadata": {
    "id": "_QuJ_v_ygTyh"
   },
   "outputs": [],
   "source": [
    "# 1. EDA\n",
    "# инициализация по языкам\n",
    "stats = {'udm': {'words': 0, 'chars': 0, 'tokens': 0, 'sent_lengths_words': [], 'sent_lengths_chars': [], 'sent_lengths_tokens': []},\n",
    "      'ru': {'words': 0, 'chars': 0, 'tokens': 0, 'sent_lengths_words': [], 'sent_lengths_chars': [], 'sent_lengths_tokens': []}}"
   ]
  },
  {
   "cell_type": "code",
   "execution_count": null,
   "metadata": {
    "id": "jAduGfodghBk"
   },
   "outputs": [],
   "source": [
    "tokenizer = nltk.tokenize.WhitespaceTokenizer()"
   ]
  },
  {
   "cell_type": "code",
   "execution_count": null,
   "metadata": {
    "colab": {
     "base_uri": "https://localhost:8080/"
    },
    "id": "yYIkOnnCgh8X",
    "outputId": "33822263-86f4-4241-a56c-cdbfb8a9cc7c"
   },
   "outputs": [
    {
     "name": "stdout",
     "output_type": "stream",
     "text": [
      "UDM:\n",
      "words:1043734\n",
      "chars:6762043\n",
      "tokens:1043734\n",
      "RU:\n",
      "words:1083595\n",
      "chars:6623831\n",
      "tokens:1083595\n"
     ]
    }
   ],
   "source": [
    "for index, row in df.iterrows():\n",
    "    udm_text = row['udm']\n",
    "    ru_text = row['ru']\n",
    "\n",
    "    # udm\n",
    "    udm_word_count = count_words(udm_text)\n",
    "    udm_char_count = count_chars(udm_text)\n",
    "    udm_token_count = count_tokens(udm_text, tokenizer)\n",
    "    stats['udm']['words'] += udm_word_count\n",
    "    stats['udm']['chars'] += udm_char_count\n",
    "    stats['udm']['tokens'] += udm_token_count\n",
    "    stats['udm']['sent_lengths_words'].append(udm_word_count)\n",
    "    stats['udm']['sent_lengths_chars'].append(udm_char_count)\n",
    "    stats['udm']['sent_lengths_tokens'].append(udm_token_count)\n",
    "\n",
    "    # ru\n",
    "    ru_word_count = count_words(ru_text)\n",
    "    ru_char_count = count_chars(ru_text)\n",
    "    ru_token_count = count_tokens(ru_text, tokenizer)\n",
    "    stats['ru']['words'] += ru_word_count\n",
    "    stats['ru']['chars'] += ru_char_count\n",
    "    stats['ru']['tokens'] += ru_token_count\n",
    "    stats['ru']['sent_lengths_words'].append(ru_word_count)\n",
    "    stats['ru']['sent_lengths_chars'].append(ru_char_count)\n",
    "    stats['ru']['sent_lengths_tokens'].append(ru_token_count)\n",
    "\n",
    "# объём\n",
    "for lang in ['udm', 'ru']:\n",
    "    print(f\"{lang.upper()}:\")\n",
    "    print(f\"words:{stats[lang]['words']}\")\n",
    "    print(f\"chars:{stats[lang]['chars']}\")\n",
    "    print(f\"tokens:{stats[lang]['tokens']}\")"
   ]
  },
  {
   "cell_type": "markdown",
   "metadata": {
    "id": "IoU-32VgpuPL"
   },
   "source": [
    "## Phase 3"
   ]
  },
  {
   "cell_type": "code",
   "execution_count": null,
   "metadata": {
    "colab": {
     "base_uri": "https://localhost:8080/"
    },
    "collapsed": true,
    "id": "arRqGljUgr7P",
    "outputId": "926dd50d-cb29-4e20-fb9f-fae1c3413a3d"
   },
   "outputs": [
    {
     "name": "stdout",
     "output_type": "stream",
     "text": [
      "Requirement already satisfied: transformers in /usr/local/lib/python3.11/dist-packages (4.52.4)\n",
      "Requirement already satisfied: sentence-transformers in /usr/local/lib/python3.11/dist-packages (4.1.0)\n",
      "Requirement already satisfied: filelock in /usr/local/lib/python3.11/dist-packages (from transformers) (3.18.0)\n",
      "Requirement already satisfied: huggingface-hub<1.0,>=0.30.0 in /usr/local/lib/python3.11/dist-packages (from transformers) (0.33.0)\n",
      "Requirement already satisfied: numpy>=1.17 in /usr/local/lib/python3.11/dist-packages (from transformers) (2.0.2)\n",
      "Requirement already satisfied: packaging>=20.0 in /usr/local/lib/python3.11/dist-packages (from transformers) (24.2)\n",
      "Requirement already satisfied: pyyaml>=5.1 in /usr/local/lib/python3.11/dist-packages (from transformers) (6.0.2)\n",
      "Requirement already satisfied: regex!=2019.12.17 in /usr/local/lib/python3.11/dist-packages (from transformers) (2024.11.6)\n",
      "Requirement already satisfied: requests in /usr/local/lib/python3.11/dist-packages (from transformers) (2.32.3)\n",
      "Requirement already satisfied: tokenizers<0.22,>=0.21 in /usr/local/lib/python3.11/dist-packages (from transformers) (0.21.1)\n",
      "Requirement already satisfied: safetensors>=0.4.3 in /usr/local/lib/python3.11/dist-packages (from transformers) (0.5.3)\n",
      "Requirement already satisfied: tqdm>=4.27 in /usr/local/lib/python3.11/dist-packages (from transformers) (4.67.1)\n",
      "Requirement already satisfied: torch>=1.11.0 in /usr/local/lib/python3.11/dist-packages (from sentence-transformers) (2.6.0+cu124)\n",
      "Requirement already satisfied: scikit-learn in /usr/local/lib/python3.11/dist-packages (from sentence-transformers) (1.6.1)\n",
      "Requirement already satisfied: scipy in /usr/local/lib/python3.11/dist-packages (from sentence-transformers) (1.15.3)\n",
      "Requirement already satisfied: Pillow in /usr/local/lib/python3.11/dist-packages (from sentence-transformers) (11.2.1)\n",
      "Requirement already satisfied: typing_extensions>=4.5.0 in /usr/local/lib/python3.11/dist-packages (from sentence-transformers) (4.14.0)\n",
      "Requirement already satisfied: fsspec>=2023.5.0 in /usr/local/lib/python3.11/dist-packages (from huggingface-hub<1.0,>=0.30.0->transformers) (2025.3.0)\n",
      "Requirement already satisfied: hf-xet<2.0.0,>=1.1.2 in /usr/local/lib/python3.11/dist-packages (from huggingface-hub<1.0,>=0.30.0->transformers) (1.1.3)\n",
      "Requirement already satisfied: networkx in /usr/local/lib/python3.11/dist-packages (from torch>=1.11.0->sentence-transformers) (3.5)\n",
      "Requirement already satisfied: jinja2 in /usr/local/lib/python3.11/dist-packages (from torch>=1.11.0->sentence-transformers) (3.1.6)\n",
      "Collecting nvidia-cuda-nvrtc-cu12==12.4.127 (from torch>=1.11.0->sentence-transformers)\n",
      "  Downloading nvidia_cuda_nvrtc_cu12-12.4.127-py3-none-manylinux2014_x86_64.whl.metadata (1.5 kB)\n",
      "Collecting nvidia-cuda-runtime-cu12==12.4.127 (from torch>=1.11.0->sentence-transformers)\n",
      "  Downloading nvidia_cuda_runtime_cu12-12.4.127-py3-none-manylinux2014_x86_64.whl.metadata (1.5 kB)\n",
      "Collecting nvidia-cuda-cupti-cu12==12.4.127 (from torch>=1.11.0->sentence-transformers)\n",
      "  Downloading nvidia_cuda_cupti_cu12-12.4.127-py3-none-manylinux2014_x86_64.whl.metadata (1.6 kB)\n",
      "Collecting nvidia-cudnn-cu12==9.1.0.70 (from torch>=1.11.0->sentence-transformers)\n",
      "  Downloading nvidia_cudnn_cu12-9.1.0.70-py3-none-manylinux2014_x86_64.whl.metadata (1.6 kB)\n",
      "Collecting nvidia-cublas-cu12==12.4.5.8 (from torch>=1.11.0->sentence-transformers)\n",
      "  Downloading nvidia_cublas_cu12-12.4.5.8-py3-none-manylinux2014_x86_64.whl.metadata (1.5 kB)\n",
      "Collecting nvidia-cufft-cu12==11.2.1.3 (from torch>=1.11.0->sentence-transformers)\n",
      "  Downloading nvidia_cufft_cu12-11.2.1.3-py3-none-manylinux2014_x86_64.whl.metadata (1.5 kB)\n",
      "Collecting nvidia-curand-cu12==10.3.5.147 (from torch>=1.11.0->sentence-transformers)\n",
      "  Downloading nvidia_curand_cu12-10.3.5.147-py3-none-manylinux2014_x86_64.whl.metadata (1.5 kB)\n",
      "Collecting nvidia-cusolver-cu12==11.6.1.9 (from torch>=1.11.0->sentence-transformers)\n",
      "  Downloading nvidia_cusolver_cu12-11.6.1.9-py3-none-manylinux2014_x86_64.whl.metadata (1.6 kB)\n",
      "Collecting nvidia-cusparse-cu12==12.3.1.170 (from torch>=1.11.0->sentence-transformers)\n",
      "  Downloading nvidia_cusparse_cu12-12.3.1.170-py3-none-manylinux2014_x86_64.whl.metadata (1.6 kB)\n",
      "Requirement already satisfied: nvidia-cusparselt-cu12==0.6.2 in /usr/local/lib/python3.11/dist-packages (from torch>=1.11.0->sentence-transformers) (0.6.2)\n",
      "Requirement already satisfied: nvidia-nccl-cu12==2.21.5 in /usr/local/lib/python3.11/dist-packages (from torch>=1.11.0->sentence-transformers) (2.21.5)\n",
      "Requirement already satisfied: nvidia-nvtx-cu12==12.4.127 in /usr/local/lib/python3.11/dist-packages (from torch>=1.11.0->sentence-transformers) (12.4.127)\n",
      "Collecting nvidia-nvjitlink-cu12==12.4.127 (from torch>=1.11.0->sentence-transformers)\n",
      "  Downloading nvidia_nvjitlink_cu12-12.4.127-py3-none-manylinux2014_x86_64.whl.metadata (1.5 kB)\n",
      "Requirement already satisfied: triton==3.2.0 in /usr/local/lib/python3.11/dist-packages (from torch>=1.11.0->sentence-transformers) (3.2.0)\n",
      "Requirement already satisfied: sympy==1.13.1 in /usr/local/lib/python3.11/dist-packages (from torch>=1.11.0->sentence-transformers) (1.13.1)\n",
      "Requirement already satisfied: mpmath<1.4,>=1.1.0 in /usr/local/lib/python3.11/dist-packages (from sympy==1.13.1->torch>=1.11.0->sentence-transformers) (1.3.0)\n",
      "Requirement already satisfied: charset-normalizer<4,>=2 in /usr/local/lib/python3.11/dist-packages (from requests->transformers) (3.4.2)\n",
      "Requirement already satisfied: idna<4,>=2.5 in /usr/local/lib/python3.11/dist-packages (from requests->transformers) (3.10)\n",
      "Requirement already satisfied: urllib3<3,>=1.21.1 in /usr/local/lib/python3.11/dist-packages (from requests->transformers) (2.4.0)\n",
      "Requirement already satisfied: certifi>=2017.4.17 in /usr/local/lib/python3.11/dist-packages (from requests->transformers) (2025.6.15)\n",
      "Requirement already satisfied: joblib>=1.2.0 in /usr/local/lib/python3.11/dist-packages (from scikit-learn->sentence-transformers) (1.5.1)\n",
      "Requirement already satisfied: threadpoolctl>=3.1.0 in /usr/local/lib/python3.11/dist-packages (from scikit-learn->sentence-transformers) (3.6.0)\n",
      "Requirement already satisfied: MarkupSafe>=2.0 in /usr/local/lib/python3.11/dist-packages (from jinja2->torch>=1.11.0->sentence-transformers) (3.0.2)\n",
      "Downloading nvidia_cublas_cu12-12.4.5.8-py3-none-manylinux2014_x86_64.whl (363.4 MB)\n",
      "\u001b[2K   \u001b[90m━━━━━━━━━━━━━━━━━━━━━━━━━━━━━━━━━━━━━━━━\u001b[0m \u001b[32m363.4/363.4 MB\u001b[0m \u001b[31m4.3 MB/s\u001b[0m eta \u001b[36m0:00:00\u001b[0m\n",
      "\u001b[?25hDownloading nvidia_cuda_cupti_cu12-12.4.127-py3-none-manylinux2014_x86_64.whl (13.8 MB)\n",
      "\u001b[2K   \u001b[90m━━━━━━━━━━━━━━━━━━━━━━━━━━━━━━━━━━━━━━━━\u001b[0m \u001b[32m13.8/13.8 MB\u001b[0m \u001b[31m75.9 MB/s\u001b[0m eta \u001b[36m0:00:00\u001b[0m\n",
      "\u001b[?25hDownloading nvidia_cuda_nvrtc_cu12-12.4.127-py3-none-manylinux2014_x86_64.whl (24.6 MB)\n",
      "\u001b[2K   \u001b[90m━━━━━━━━━━━━━━━━━━━━━━━━━━━━━━━━━━━━━━━━\u001b[0m \u001b[32m24.6/24.6 MB\u001b[0m \u001b[31m50.3 MB/s\u001b[0m eta \u001b[36m0:00:00\u001b[0m\n",
      "\u001b[?25hDownloading nvidia_cuda_runtime_cu12-12.4.127-py3-none-manylinux2014_x86_64.whl (883 kB)\n",
      "\u001b[2K   \u001b[90m━━━━━━━━━━━━━━━━━━━━━━━━━━━━━━━━━━━━━━━━\u001b[0m \u001b[32m883.7/883.7 kB\u001b[0m \u001b[31m42.3 MB/s\u001b[0m eta \u001b[36m0:00:00\u001b[0m\n",
      "\u001b[?25hDownloading nvidia_cudnn_cu12-9.1.0.70-py3-none-manylinux2014_x86_64.whl (664.8 MB)\n",
      "\u001b[2K   \u001b[90m━━━━━━━━━━━━━━━━━━━━━━━━━━━━━━━━━━━━━━━━\u001b[0m \u001b[32m664.8/664.8 MB\u001b[0m \u001b[31m1.3 MB/s\u001b[0m eta \u001b[36m0:00:00\u001b[0m\n",
      "\u001b[?25hDownloading nvidia_cufft_cu12-11.2.1.3-py3-none-manylinux2014_x86_64.whl (211.5 MB)\n",
      "\u001b[2K   \u001b[90m━━━━━━━━━━━━━━━━━━━━━━━━━━━━━━━━━━━━━━━━\u001b[0m \u001b[32m211.5/211.5 MB\u001b[0m \u001b[31m5.9 MB/s\u001b[0m eta \u001b[36m0:00:00\u001b[0m\n",
      "\u001b[?25hDownloading nvidia_curand_cu12-10.3.5.147-py3-none-manylinux2014_x86_64.whl (56.3 MB)\n",
      "\u001b[2K   \u001b[90m━━━━━━━━━━━━━━━━━━━━━━━━━━━━━━━━━━━━━━━━\u001b[0m \u001b[32m56.3/56.3 MB\u001b[0m \u001b[31m19.5 MB/s\u001b[0m eta \u001b[36m0:00:00\u001b[0m\n",
      "\u001b[?25hDownloading nvidia_cusolver_cu12-11.6.1.9-py3-none-manylinux2014_x86_64.whl (127.9 MB)\n",
      "\u001b[2K   \u001b[90m━━━━━━━━━━━━━━━━━━━━━━━━━━━━━━━━━━━━━━━━\u001b[0m \u001b[32m127.9/127.9 MB\u001b[0m \u001b[31m7.5 MB/s\u001b[0m eta \u001b[36m0:00:00\u001b[0m\n",
      "\u001b[?25hDownloading nvidia_cusparse_cu12-12.3.1.170-py3-none-manylinux2014_x86_64.whl (207.5 MB)\n",
      "\u001b[2K   \u001b[90m━━━━━━━━━━━━━━━━━━━━━━━━━━━━━━━━━━━━━━━━\u001b[0m \u001b[32m207.5/207.5 MB\u001b[0m \u001b[31m5.9 MB/s\u001b[0m eta \u001b[36m0:00:00\u001b[0m\n",
      "\u001b[?25hDownloading nvidia_nvjitlink_cu12-12.4.127-py3-none-manylinux2014_x86_64.whl (21.1 MB)\n",
      "\u001b[2K   \u001b[90m━━━━━━━━━━━━━━━━━━━━━━━━━━━━━━━━━━━━━━━━\u001b[0m \u001b[32m21.1/21.1 MB\u001b[0m \u001b[31m61.2 MB/s\u001b[0m eta \u001b[36m0:00:00\u001b[0m\n",
      "\u001b[?25hInstalling collected packages: nvidia-nvjitlink-cu12, nvidia-curand-cu12, nvidia-cufft-cu12, nvidia-cuda-runtime-cu12, nvidia-cuda-nvrtc-cu12, nvidia-cuda-cupti-cu12, nvidia-cublas-cu12, nvidia-cusparse-cu12, nvidia-cudnn-cu12, nvidia-cusolver-cu12\n",
      "  Attempting uninstall: nvidia-nvjitlink-cu12\n",
      "    Found existing installation: nvidia-nvjitlink-cu12 12.5.82\n",
      "    Uninstalling nvidia-nvjitlink-cu12-12.5.82:\n",
      "      Successfully uninstalled nvidia-nvjitlink-cu12-12.5.82\n",
      "  Attempting uninstall: nvidia-curand-cu12\n",
      "    Found existing installation: nvidia-curand-cu12 10.3.6.82\n",
      "    Uninstalling nvidia-curand-cu12-10.3.6.82:\n",
      "      Successfully uninstalled nvidia-curand-cu12-10.3.6.82\n",
      "  Attempting uninstall: nvidia-cufft-cu12\n",
      "    Found existing installation: nvidia-cufft-cu12 11.2.3.61\n",
      "    Uninstalling nvidia-cufft-cu12-11.2.3.61:\n",
      "      Successfully uninstalled nvidia-cufft-cu12-11.2.3.61\n",
      "  Attempting uninstall: nvidia-cuda-runtime-cu12\n",
      "    Found existing installation: nvidia-cuda-runtime-cu12 12.5.82\n",
      "    Uninstalling nvidia-cuda-runtime-cu12-12.5.82:\n",
      "      Successfully uninstalled nvidia-cuda-runtime-cu12-12.5.82\n",
      "  Attempting uninstall: nvidia-cuda-nvrtc-cu12\n",
      "    Found existing installation: nvidia-cuda-nvrtc-cu12 12.5.82\n",
      "    Uninstalling nvidia-cuda-nvrtc-cu12-12.5.82:\n",
      "      Successfully uninstalled nvidia-cuda-nvrtc-cu12-12.5.82\n",
      "  Attempting uninstall: nvidia-cuda-cupti-cu12\n",
      "    Found existing installation: nvidia-cuda-cupti-cu12 12.5.82\n",
      "    Uninstalling nvidia-cuda-cupti-cu12-12.5.82:\n",
      "      Successfully uninstalled nvidia-cuda-cupti-cu12-12.5.82\n",
      "  Attempting uninstall: nvidia-cublas-cu12\n",
      "    Found existing installation: nvidia-cublas-cu12 12.5.3.2\n",
      "    Uninstalling nvidia-cublas-cu12-12.5.3.2:\n",
      "      Successfully uninstalled nvidia-cublas-cu12-12.5.3.2\n",
      "  Attempting uninstall: nvidia-cusparse-cu12\n",
      "    Found existing installation: nvidia-cusparse-cu12 12.5.1.3\n",
      "    Uninstalling nvidia-cusparse-cu12-12.5.1.3:\n",
      "      Successfully uninstalled nvidia-cusparse-cu12-12.5.1.3\n",
      "  Attempting uninstall: nvidia-cudnn-cu12\n",
      "    Found existing installation: nvidia-cudnn-cu12 9.3.0.75\n",
      "    Uninstalling nvidia-cudnn-cu12-9.3.0.75:\n",
      "      Successfully uninstalled nvidia-cudnn-cu12-9.3.0.75\n",
      "  Attempting uninstall: nvidia-cusolver-cu12\n",
      "    Found existing installation: nvidia-cusolver-cu12 11.6.3.83\n",
      "    Uninstalling nvidia-cusolver-cu12-11.6.3.83:\n",
      "      Successfully uninstalled nvidia-cusolver-cu12-11.6.3.83\n",
      "Successfully installed nvidia-cublas-cu12-12.4.5.8 nvidia-cuda-cupti-cu12-12.4.127 nvidia-cuda-nvrtc-cu12-12.4.127 nvidia-cuda-runtime-cu12-12.4.127 nvidia-cudnn-cu12-9.1.0.70 nvidia-cufft-cu12-11.2.1.3 nvidia-curand-cu12-10.3.5.147 nvidia-cusolver-cu12-11.6.1.9 nvidia-cusparse-cu12-12.3.1.170 nvidia-nvjitlink-cu12-12.4.127\n"
     ]
    }
   ],
   "source": [
    "!pip install transformers sentence-transformers"
   ]
  },
  {
   "cell_type": "code",
   "execution_count": null,
   "metadata": {
    "id": "slvnifbkguJx"
   },
   "outputs": [],
   "source": [
    "from sentence_transformers import SentenceTransformer\n",
    "from scipy.spatial.distance import cosine\n",
    "import torch\n",
    "from tqdm import tqdm"
   ]
  },
  {
   "cell_type": "code",
   "execution_count": null,
   "metadata": {
    "colab": {
     "base_uri": "https://localhost:8080/"
    },
    "collapsed": true,
    "id": "BKkaDEs6hFyH",
    "outputId": "e899d5f7-d9e3-4b38-8c9a-9aedbc2a4c7e"
   },
   "outputs": [
    {
     "name": "stdout",
     "output_type": "stream",
     "text": [
      "Reading package lists... Done\n",
      "Building dependency tree... Done\n",
      "Reading state information... Done\n",
      "libhunspell-dev is already the newest version (1.7.0-4build1).\n",
      "0 upgraded, 0 newly installed, 0 to remove and 35 not upgraded.\n"
     ]
    }
   ],
   "source": [
    "!apt-get install libhunspell-dev"
   ]
  },
  {
   "cell_type": "code",
   "execution_count": null,
   "metadata": {
    "colab": {
     "base_uri": "https://localhost:8080/"
    },
    "id": "oRTf2KjNt7r6",
    "outputId": "68c28ec2-ef3b-476d-8f74-1fa1e3c27ad5"
   },
   "outputs": [
    {
     "name": "stdout",
     "output_type": "stream",
     "text": [
      "Collecting hunspell\n",
      "  Downloading hunspell-0.5.5.tar.gz (34 kB)\n",
      "  Preparing metadata (setup.py) ... \u001b[?25l\u001b[?25hdone\n",
      "Building wheels for collected packages: hunspell\n",
      "  Building wheel for hunspell (setup.py) ... \u001b[?25l\u001b[?25hdone\n",
      "  Created wheel for hunspell: filename=hunspell-0.5.5-cp311-cp311-linux_x86_64.whl size=66315 sha256=216c26772dbb556da24df945996969cba9b899fb499acb015b33742817ee73f6\n",
      "  Stored in directory: /root/.cache/pip/wheels/0b/41/b3/14ebfe8dfb3116e3f1ab55ff0db766d1ef033b6842ccc67e24\n",
      "Successfully built hunspell\n",
      "Installing collected packages: hunspell\n",
      "Successfully installed hunspell-0.5.5\n"
     ]
    }
   ],
   "source": [
    "!pip install hunspell"
   ]
  },
  {
   "cell_type": "code",
   "execution_count": null,
   "metadata": {
    "id": "mutxSlVPu8F1"
   },
   "outputs": [],
   "source": [
    "import hunspell\n",
    "hobj = hunspell.HunSpell('/content/udm.dic', '/content/udm.aff')"
   ]
  },
  {
   "cell_type": "code",
   "execution_count": null,
   "metadata": {
    "colab": {
     "base_uri": "https://localhost:8080/"
    },
    "id": "N1E_UzGhvDR9",
    "outputId": "c1c3564a-702b-438b-e97a-6a22f8b427c2"
   },
   "outputs": [
    {
     "data": {
      "text/plain": [
       "True"
      ]
     },
     "execution_count": 71,
     "metadata": {},
     "output_type": "execute_result"
    }
   ],
   "source": [
    "hobj.spell('нярга')"
   ]
  },
  {
   "cell_type": "code",
   "execution_count": null,
   "metadata": {
    "colab": {
     "base_uri": "https://localhost:8080/"
    },
    "id": "ee4ByyCJvD3O",
    "outputId": "59c9ee24-3cf9-4c97-bc0a-e3506685c424"
   },
   "outputs": [
    {
     "data": {
      "text/plain": [
       "['пӧсятыны',\n",
       " 'пӧсятскыны',\n",
       " 'пӧсят кыны',\n",
       " 'пӧсят-кыны',\n",
       " 'пӧсятӥськыны',\n",
       " 'пӧсятытыны',\n",
       " 'пӧсятылыны',\n",
       " 'пӧсятъяны']"
      ]
     },
     "execution_count": 72,
     "metadata": {},
     "output_type": "execute_result"
    }
   ],
   "source": [
    "hobj.suggest('пӧсяткыны')"
   ]
  },
  {
   "cell_type": "code",
   "execution_count": null,
   "metadata": {
    "colab": {
     "base_uri": "https://localhost:8080/"
    },
    "id": "AA45Q6p5vHcg",
    "outputId": "208af67f-fed4-49aa-e42a-502d79f44204"
   },
   "outputs": [
    {
     "data": {
      "text/plain": [
       "[b' st:\\xd0\\xbf\\xd3\\xa7\\xd1\\x81\\xd1\\x8f\\xd1\\x82\\xd1\\x81\\xd0\\xba\\xd1\\x8b\\xd0\\xbd\\xd1\\x8b',\n",
       " b' st:\\xd0\\xbf\\xd3\\xa7\\xd1\\x81\\xd1\\x8f\\xd1\\x82\\xd1\\x81\\xd0\\xba\\xd1\\x8b\\xd0\\xbd\\xd1\\x8b fl:V1']"
      ]
     },
     "execution_count": 73,
     "metadata": {},
     "output_type": "execute_result"
    }
   ],
   "source": [
    "hobj.analyze('пӧсятскыны')"
   ]
  },
  {
   "cell_type": "code",
   "execution_count": null,
   "metadata": {
    "colab": {
     "base_uri": "https://localhost:8080/"
    },
    "id": "KQNpvSoFvIZN",
    "outputId": "8822557e-8c28-4c3a-b39c-d5486fcbafab"
   },
   "outputs": [
    {
     "data": {
      "text/plain": [
       "[b'\\xd0\\xbf\\xd3\\xa7\\xd1\\x81\\xd1\\x8f\\xd1\\x82\\xd1\\x81\\xd0\\xba\\xd1\\x8b\\xd0\\xbd\\xd1\\x8b']"
      ]
     },
     "execution_count": 74,
     "metadata": {},
     "output_type": "execute_result"
    }
   ],
   "source": [
    "hobj.stem('пӧсятскыны')"
   ]
  },
  {
   "cell_type": "code",
   "execution_count": null,
   "metadata": {
    "colab": {
     "base_uri": "https://localhost:8080/"
    },
    "id": "aqS5_KHBvJGK",
    "outputId": "c2d3e0a9-0ef1-446d-ad14-710bf5583985"
   },
   "outputs": [
    {
     "data": {
      "text/plain": [
       "0"
      ]
     },
     "execution_count": 75,
     "metadata": {},
     "output_type": "execute_result"
    }
   ],
   "source": [
    "hobj.add('привет')"
   ]
  },
  {
   "cell_type": "code",
   "execution_count": null,
   "metadata": {
    "colab": {
     "base_uri": "https://localhost:8080/"
    },
    "id": "BFRZeWsIvMFH",
    "outputId": "a6ebd8cd-3d4f-48ed-f66e-e01027bbec24"
   },
   "outputs": [
    {
     "data": {
      "text/plain": [
       "False"
      ]
     },
     "execution_count": 78,
     "metadata": {},
     "output_type": "execute_result"
    }
   ],
   "source": [
    "hobj.spell('привет')"
   ]
  },
  {
   "cell_type": "code",
   "execution_count": null,
   "metadata": {
    "colab": {
     "base_uri": "https://localhost:8080/"
    },
    "id": "bQ2cIh5mvOWj",
    "outputId": "107d44c3-cac0-4b7a-bb6a-e52858476f45"
   },
   "outputs": [
    {
     "data": {
      "text/plain": [
       "0"
      ]
     },
     "execution_count": 77,
     "metadata": {},
     "output_type": "execute_result"
    }
   ],
   "source": [
    "hobj.remove('привет')"
   ]
  },
  {
   "cell_type": "code",
   "execution_count": null,
   "metadata": {
    "colab": {
     "base_uri": "https://localhost:8080/"
    },
    "collapsed": true,
    "id": "FlHxlKYpvQ5F",
    "outputId": "bd131de7-8134-4095-da69-36ab6bdba372"
   },
   "outputs": [
    {
     "name": "stderr",
     "output_type": "stream",
     "text": [
      "100%|██████████| 101833/101833 [48:52<00:00, 34.72it/s]"
     ]
    },
    {
     "name": "stdout",
     "output_type": "stream",
     "text": [
      "Исправлено предложений: 42844\n"
     ]
    },
    {
     "name": "stderr",
     "output_type": "stream",
     "text": [
      "\n"
     ]
    }
   ],
   "source": [
    "# 2. Проверка и исправление текста\n",
    "def correct_text(text):\n",
    "    words = text.split()\n",
    "    corrected = []\n",
    "    modified = False\n",
    "\n",
    "    for word in words:\n",
    "        # Удаление знаков пунктуации для проверки\n",
    "        clean_word = word.strip('.,!?;:\"\\'()[]')\n",
    "\n",
    "        if not hobj.spell(clean_word):\n",
    "            suggestions = hobj.suggest(clean_word)\n",
    "            if suggestions:\n",
    "                # Выбираем первое предложение\n",
    "                corrected_word = suggestions[0]\n",
    "                corrected.append(corrected_word)\n",
    "                modified = True\n",
    "            else:\n",
    "                corrected.append(word)\n",
    "        else:\n",
    "            corrected.append(word)\n",
    "\n",
    "    return ' '.join(corrected), modified\n",
    "\n",
    "# Применение функции ко всему датасету\n",
    "correction_dict = {}\n",
    "df['udm_corrected'] = ''\n",
    "df['is_modified'] = False\n",
    "\n",
    "for idx, row in tqdm(df.iterrows(), total=len(df)):\n",
    "    corrected_text, modified = correct_text(row['udm'])\n",
    "    df.at[idx, 'udm_corrected'] = corrected_text\n",
    "    df.at[idx, 'is_modified'] = modified\n",
    "\n",
    "    # Сбор статистики исправлений\n",
    "    if modified:\n",
    "        original_words = set(row['udm'].split())\n",
    "        corrected_words = set(corrected_text.split())\n",
    "        changed_words = original_words - corrected_words\n",
    "\n",
    "        for word in changed_words:\n",
    "            correction_dict[word] = correction_dict.get(word, 0) + 1\n",
    "\n",
    "print(f\"Исправлено предложений: {df['is_modified'].sum()}\")"
   ]
  },
  {
   "cell_type": "code",
   "execution_count": null,
   "metadata": {
    "id": "7a0eynEw1tLx"
   },
   "outputs": [],
   "source": [
    "df.to_csv('is_modified.csv', index=False)"
   ]
  },
  {
   "cell_type": "code",
   "execution_count": null,
   "metadata": {
    "colab": {
     "base_uri": "https://localhost:8080/",
     "height": 240
    },
    "id": "fSQkdsgt05Ay",
    "outputId": "1b3947a9-32af-4132-f6f9-cb7f8d2014c8"
   },
   "outputs": [
    {
     "data": {
      "application/vnd.google.colaboratory.intrinsic+json": {
       "type": "dataframe",
       "variable_name": "df"
      },
      "text/html": [
       "\n",
       "  <div id=\"df-2b1be37a-651f-4272-9e25-f75af2e9a512\" class=\"colab-df-container\">\n",
       "    <div>\n",
       "<style scoped>\n",
       "    .dataframe tbody tr th:only-of-type {\n",
       "        vertical-align: middle;\n",
       "    }\n",
       "\n",
       "    .dataframe tbody tr th {\n",
       "        vertical-align: top;\n",
       "    }\n",
       "\n",
       "    .dataframe thead th {\n",
       "        text-align: right;\n",
       "    }\n",
       "</style>\n",
       "<table border=\"1\" class=\"dataframe\">\n",
       "  <thead>\n",
       "    <tr style=\"text-align: right;\">\n",
       "      <th></th>\n",
       "      <th>ru</th>\n",
       "      <th>udm</th>\n",
       "      <th>udm_len</th>\n",
       "      <th>ru_len</th>\n",
       "      <th>udm_corrected</th>\n",
       "      <th>is_modified</th>\n",
       "    </tr>\n",
       "  </thead>\n",
       "  <tbody>\n",
       "    <tr>\n",
       "      <th>0</th>\n",
       "      <td>Каждый день над рабочей слободкой, в дымном, м...</td>\n",
       "      <td>Рабочийёслэн слободказы вадьсын, ӵыно, вӧё омы...</td>\n",
       "      <td>33</td>\n",
       "      <td>35</td>\n",
       "      <td>Рабочийёслэн слободказы вадьсын, ӵыно, вӧё омы...</td>\n",
       "      <td>False</td>\n",
       "    </tr>\n",
       "    <tr>\n",
       "      <th>1</th>\n",
       "      <td>В холодном сумраке они шли по немощеной улице ...</td>\n",
       "      <td>Кезьыт ӵукна ӝомытын соос изэн вӧлдымтэ урам к...</td>\n",
       "      <td>27</td>\n",
       "      <td>26</td>\n",
       "      <td>Кезьыт ӵукна ӝомытын соос изэн вӧлдымтэ урам к...</td>\n",
       "      <td>False</td>\n",
       "    </tr>\n",
       "    <tr>\n",
       "      <th>2</th>\n",
       "      <td>Грязь чмокала под ногами.</td>\n",
       "      <td>Пыд улын дэри тяпкетылӥз.</td>\n",
       "      <td>4</td>\n",
       "      <td>4</td>\n",
       "      <td>Пыд улын дэри топкетылӥз</td>\n",
       "      <td>True</td>\n",
       "    </tr>\n",
       "    <tr>\n",
       "      <th>3</th>\n",
       "      <td>Раздавались хриплые восклицания сонных голосов...</td>\n",
       "      <td>Кылӥськылӥзы кӧлэм бере кежыр луэм куараос. Ур...</td>\n",
       "      <td>24</td>\n",
       "      <td>22</td>\n",
       "      <td>Кылӥськылӥзы кӧлэм бере кежыр луэм куараос. Ур...</td>\n",
       "      <td>True</td>\n",
       "    </tr>\n",
       "    <tr>\n",
       "      <th>4</th>\n",
       "      <td>Угрюмо и строго маячили высокие черные трубы, ...</td>\n",
       "      <td>Слободка вадьсы зӧк бодыос выллем ӝутскем ӝужы...</td>\n",
       "      <td>13</td>\n",
       "      <td>13</td>\n",
       "      <td>Слободка вадьсы зӧк бодыос выллем ӝутскем ӝужы...</td>\n",
       "      <td>False</td>\n",
       "    </tr>\n",
       "  </tbody>\n",
       "</table>\n",
       "</div>\n",
       "    <div class=\"colab-df-buttons\">\n",
       "\n",
       "  <div class=\"colab-df-container\">\n",
       "    <button class=\"colab-df-convert\" onclick=\"convertToInteractive('df-2b1be37a-651f-4272-9e25-f75af2e9a512')\"\n",
       "            title=\"Convert this dataframe to an interactive table.\"\n",
       "            style=\"display:none;\">\n",
       "\n",
       "  <svg xmlns=\"http://www.w3.org/2000/svg\" height=\"24px\" viewBox=\"0 -960 960 960\">\n",
       "    <path d=\"M120-120v-720h720v720H120Zm60-500h600v-160H180v160Zm220 220h160v-160H400v160Zm0 220h160v-160H400v160ZM180-400h160v-160H180v160Zm440 0h160v-160H620v160ZM180-180h160v-160H180v160Zm440 0h160v-160H620v160Z\"/>\n",
       "  </svg>\n",
       "    </button>\n",
       "\n",
       "  <style>\n",
       "    .colab-df-container {\n",
       "      display:flex;\n",
       "      gap: 12px;\n",
       "    }\n",
       "\n",
       "    .colab-df-convert {\n",
       "      background-color: #E8F0FE;\n",
       "      border: none;\n",
       "      border-radius: 50%;\n",
       "      cursor: pointer;\n",
       "      display: none;\n",
       "      fill: #1967D2;\n",
       "      height: 32px;\n",
       "      padding: 0 0 0 0;\n",
       "      width: 32px;\n",
       "    }\n",
       "\n",
       "    .colab-df-convert:hover {\n",
       "      background-color: #E2EBFA;\n",
       "      box-shadow: 0px 1px 2px rgba(60, 64, 67, 0.3), 0px 1px 3px 1px rgba(60, 64, 67, 0.15);\n",
       "      fill: #174EA6;\n",
       "    }\n",
       "\n",
       "    .colab-df-buttons div {\n",
       "      margin-bottom: 4px;\n",
       "    }\n",
       "\n",
       "    [theme=dark] .colab-df-convert {\n",
       "      background-color: #3B4455;\n",
       "      fill: #D2E3FC;\n",
       "    }\n",
       "\n",
       "    [theme=dark] .colab-df-convert:hover {\n",
       "      background-color: #434B5C;\n",
       "      box-shadow: 0px 1px 3px 1px rgba(0, 0, 0, 0.15);\n",
       "      filter: drop-shadow(0px 1px 2px rgba(0, 0, 0, 0.3));\n",
       "      fill: #FFFFFF;\n",
       "    }\n",
       "  </style>\n",
       "\n",
       "    <script>\n",
       "      const buttonEl =\n",
       "        document.querySelector('#df-2b1be37a-651f-4272-9e25-f75af2e9a512 button.colab-df-convert');\n",
       "      buttonEl.style.display =\n",
       "        google.colab.kernel.accessAllowed ? 'block' : 'none';\n",
       "\n",
       "      async function convertToInteractive(key) {\n",
       "        const element = document.querySelector('#df-2b1be37a-651f-4272-9e25-f75af2e9a512');\n",
       "        const dataTable =\n",
       "          await google.colab.kernel.invokeFunction('convertToInteractive',\n",
       "                                                    [key], {});\n",
       "        if (!dataTable) return;\n",
       "\n",
       "        const docLinkHtml = 'Like what you see? Visit the ' +\n",
       "          '<a target=\"_blank\" href=https://colab.research.google.com/notebooks/data_table.ipynb>data table notebook</a>'\n",
       "          + ' to learn more about interactive tables.';\n",
       "        element.innerHTML = '';\n",
       "        dataTable['output_type'] = 'display_data';\n",
       "        await google.colab.output.renderOutput(dataTable, element);\n",
       "        const docLink = document.createElement('div');\n",
       "        docLink.innerHTML = docLinkHtml;\n",
       "        element.appendChild(docLink);\n",
       "      }\n",
       "    </script>\n",
       "  </div>\n",
       "\n",
       "\n",
       "    <div id=\"df-bdb75afe-ba12-40c6-a6f5-d808ffa8ac61\">\n",
       "      <button class=\"colab-df-quickchart\" onclick=\"quickchart('df-bdb75afe-ba12-40c6-a6f5-d808ffa8ac61')\"\n",
       "                title=\"Suggest charts\"\n",
       "                style=\"display:none;\">\n",
       "\n",
       "<svg xmlns=\"http://www.w3.org/2000/svg\" height=\"24px\"viewBox=\"0 0 24 24\"\n",
       "     width=\"24px\">\n",
       "    <g>\n",
       "        <path d=\"M19 3H5c-1.1 0-2 .9-2 2v14c0 1.1.9 2 2 2h14c1.1 0 2-.9 2-2V5c0-1.1-.9-2-2-2zM9 17H7v-7h2v7zm4 0h-2V7h2v10zm4 0h-2v-4h2v4z\"/>\n",
       "    </g>\n",
       "</svg>\n",
       "      </button>\n",
       "\n",
       "<style>\n",
       "  .colab-df-quickchart {\n",
       "      --bg-color: #E8F0FE;\n",
       "      --fill-color: #1967D2;\n",
       "      --hover-bg-color: #E2EBFA;\n",
       "      --hover-fill-color: #174EA6;\n",
       "      --disabled-fill-color: #AAA;\n",
       "      --disabled-bg-color: #DDD;\n",
       "  }\n",
       "\n",
       "  [theme=dark] .colab-df-quickchart {\n",
       "      --bg-color: #3B4455;\n",
       "      --fill-color: #D2E3FC;\n",
       "      --hover-bg-color: #434B5C;\n",
       "      --hover-fill-color: #FFFFFF;\n",
       "      --disabled-bg-color: #3B4455;\n",
       "      --disabled-fill-color: #666;\n",
       "  }\n",
       "\n",
       "  .colab-df-quickchart {\n",
       "    background-color: var(--bg-color);\n",
       "    border: none;\n",
       "    border-radius: 50%;\n",
       "    cursor: pointer;\n",
       "    display: none;\n",
       "    fill: var(--fill-color);\n",
       "    height: 32px;\n",
       "    padding: 0;\n",
       "    width: 32px;\n",
       "  }\n",
       "\n",
       "  .colab-df-quickchart:hover {\n",
       "    background-color: var(--hover-bg-color);\n",
       "    box-shadow: 0 1px 2px rgba(60, 64, 67, 0.3), 0 1px 3px 1px rgba(60, 64, 67, 0.15);\n",
       "    fill: var(--button-hover-fill-color);\n",
       "  }\n",
       "\n",
       "  .colab-df-quickchart-complete:disabled,\n",
       "  .colab-df-quickchart-complete:disabled:hover {\n",
       "    background-color: var(--disabled-bg-color);\n",
       "    fill: var(--disabled-fill-color);\n",
       "    box-shadow: none;\n",
       "  }\n",
       "\n",
       "  .colab-df-spinner {\n",
       "    border: 2px solid var(--fill-color);\n",
       "    border-color: transparent;\n",
       "    border-bottom-color: var(--fill-color);\n",
       "    animation:\n",
       "      spin 1s steps(1) infinite;\n",
       "  }\n",
       "\n",
       "  @keyframes spin {\n",
       "    0% {\n",
       "      border-color: transparent;\n",
       "      border-bottom-color: var(--fill-color);\n",
       "      border-left-color: var(--fill-color);\n",
       "    }\n",
       "    20% {\n",
       "      border-color: transparent;\n",
       "      border-left-color: var(--fill-color);\n",
       "      border-top-color: var(--fill-color);\n",
       "    }\n",
       "    30% {\n",
       "      border-color: transparent;\n",
       "      border-left-color: var(--fill-color);\n",
       "      border-top-color: var(--fill-color);\n",
       "      border-right-color: var(--fill-color);\n",
       "    }\n",
       "    40% {\n",
       "      border-color: transparent;\n",
       "      border-right-color: var(--fill-color);\n",
       "      border-top-color: var(--fill-color);\n",
       "    }\n",
       "    60% {\n",
       "      border-color: transparent;\n",
       "      border-right-color: var(--fill-color);\n",
       "    }\n",
       "    80% {\n",
       "      border-color: transparent;\n",
       "      border-right-color: var(--fill-color);\n",
       "      border-bottom-color: var(--fill-color);\n",
       "    }\n",
       "    90% {\n",
       "      border-color: transparent;\n",
       "      border-bottom-color: var(--fill-color);\n",
       "    }\n",
       "  }\n",
       "</style>\n",
       "\n",
       "      <script>\n",
       "        async function quickchart(key) {\n",
       "          const quickchartButtonEl =\n",
       "            document.querySelector('#' + key + ' button');\n",
       "          quickchartButtonEl.disabled = true;  // To prevent multiple clicks.\n",
       "          quickchartButtonEl.classList.add('colab-df-spinner');\n",
       "          try {\n",
       "            const charts = await google.colab.kernel.invokeFunction(\n",
       "                'suggestCharts', [key], {});\n",
       "          } catch (error) {\n",
       "            console.error('Error during call to suggestCharts:', error);\n",
       "          }\n",
       "          quickchartButtonEl.classList.remove('colab-df-spinner');\n",
       "          quickchartButtonEl.classList.add('colab-df-quickchart-complete');\n",
       "        }\n",
       "        (() => {\n",
       "          let quickchartButtonEl =\n",
       "            document.querySelector('#df-bdb75afe-ba12-40c6-a6f5-d808ffa8ac61 button');\n",
       "          quickchartButtonEl.style.display =\n",
       "            google.colab.kernel.accessAllowed ? 'block' : 'none';\n",
       "        })();\n",
       "      </script>\n",
       "    </div>\n",
       "    </div>\n",
       "  </div>\n"
      ],
      "text/plain": [
       "                                                  ru  \\\n",
       "0  Каждый день над рабочей слободкой, в дымном, м...   \n",
       "1  В холодном сумраке они шли по немощеной улице ...   \n",
       "2                          Грязь чмокала под ногами.   \n",
       "3  Раздавались хриплые восклицания сонных голосов...   \n",
       "4  Угрюмо и строго маячили высокие черные трубы, ...   \n",
       "\n",
       "                                                 udm  udm_len  ru_len  \\\n",
       "0  Рабочийёслэн слободказы вадьсын, ӵыно, вӧё омы...       33      35   \n",
       "1  Кезьыт ӵукна ӝомытын соос изэн вӧлдымтэ урам к...       27      26   \n",
       "2                          Пыд улын дэри тяпкетылӥз.        4       4   \n",
       "3  Кылӥськылӥзы кӧлэм бере кежыр луэм куараос. Ур...       24      22   \n",
       "4  Слободка вадьсы зӧк бодыос выллем ӝутскем ӝужы...       13      13   \n",
       "\n",
       "                                       udm_corrected  is_modified  \n",
       "0  Рабочийёслэн слободказы вадьсын, ӵыно, вӧё омы...        False  \n",
       "1  Кезьыт ӵукна ӝомытын соос изэн вӧлдымтэ урам к...        False  \n",
       "2                           Пыд улын дэри топкетылӥз         True  \n",
       "3  Кылӥськылӥзы кӧлэм бере кежыр луэм куараос. Ур...         True  \n",
       "4  Слободка вадьсы зӧк бодыос выллем ӝутскем ӝужы...        False  "
      ]
     },
     "execution_count": 24,
     "metadata": {},
     "output_type": "execute_result"
    }
   ],
   "source": [
    "df.head()"
   ]
  },
  {
   "cell_type": "code",
   "execution_count": null,
   "metadata": {
    "colab": {
     "base_uri": "https://localhost:8080/"
    },
    "id": "rGnVNqRDvgZ_",
    "outputId": "2aba49b2-8783-409f-8f07-c223d89b100f"
   },
   "outputs": [
    {
     "name": "stdout",
     "output_type": "stream",
     "text": [
      "Топ-20 исправленных слов:\n",
      "—: 30040 раз\n",
      "Валентинка: 191 раз\n",
      "сион: 179 раз\n",
      "уин: 168 раз\n",
      "Енакиев: 165 раз\n",
      "Карабас: 122 раз\n",
      "ваиз: 107 раз\n",
      "«Мон: 91 раз\n",
      "§.: 91 раз\n",
      "«Нош: 80 раз\n",
      "ваиз.: 78 раз\n",
      "Таиска: 77 раз\n",
      "Барабас: 76 раз\n",
      "―: 73 раз\n",
      "«Ма: 70 раз\n",
      "соэ: 67 раз\n",
      "шуса: 67 раз\n",
      "abu: 64 раз\n",
      "«Мар: 62 раз\n",
      "сярись: 59 раз\n"
     ]
    }
   ],
   "source": [
    "import json\n",
    "# 3. Словарь исправлений\n",
    "# Сортировка по частоте исправлений\n",
    "sorted_corrections = sorted(correction_dict.items(), key=lambda x: x[1], reverse=True)\n",
    "\n",
    "print(\"Топ-20 исправленных слов:\")\n",
    "for word, count in sorted_corrections[:20]:\n",
    "    print(f\"{word}: {count} раз\")\n",
    "\n",
    "# Сохранение полного словаря\n",
    "with open('udmurt_corrections.json', 'w') as f:\n",
    "    json.dump(correction_dict, f, ensure_ascii=False)"
   ]
  },
  {
   "cell_type": "code",
   "execution_count": null,
   "metadata": {
    "id": "zLRM-x1dDBsT"
   },
   "outputs": [],
   "source": [
    "df_cosine = pd.read_csv( '/content/distances.csv')\n",
    "cosine_distance = df_cosine['cosine_distance']"
   ]
  },
  {
   "cell_type": "code",
   "execution_count": null,
   "metadata": {
    "colab": {
     "base_uri": "https://localhost:8080/",
     "height": 458
    },
    "collapsed": true,
    "id": "PPmyYu9xGGeV",
    "outputId": "09e52985-9ac5-41f5-8ba6-d9c9f69e073f"
   },
   "outputs": [
    {
     "data": {
      "text/html": [
       "<div>\n",
       "<style scoped>\n",
       "    .dataframe tbody tr th:only-of-type {\n",
       "        vertical-align: middle;\n",
       "    }\n",
       "\n",
       "    .dataframe tbody tr th {\n",
       "        vertical-align: top;\n",
       "    }\n",
       "\n",
       "    .dataframe thead th {\n",
       "        text-align: right;\n",
       "    }\n",
       "</style>\n",
       "<table border=\"1\" class=\"dataframe\">\n",
       "  <thead>\n",
       "    <tr style=\"text-align: right;\">\n",
       "      <th></th>\n",
       "      <th>cosine_distance</th>\n",
       "    </tr>\n",
       "  </thead>\n",
       "  <tbody>\n",
       "    <tr>\n",
       "      <th>0</th>\n",
       "      <td>0.241498</td>\n",
       "    </tr>\n",
       "    <tr>\n",
       "      <th>1</th>\n",
       "      <td>0.159824</td>\n",
       "    </tr>\n",
       "    <tr>\n",
       "      <th>2</th>\n",
       "      <td>0.346754</td>\n",
       "    </tr>\n",
       "    <tr>\n",
       "      <th>3</th>\n",
       "      <td>0.215402</td>\n",
       "    </tr>\n",
       "    <tr>\n",
       "      <th>4</th>\n",
       "      <td>0.238771</td>\n",
       "    </tr>\n",
       "    <tr>\n",
       "      <th>...</th>\n",
       "      <td>...</td>\n",
       "    </tr>\n",
       "    <tr>\n",
       "      <th>101828</th>\n",
       "      <td>0.141368</td>\n",
       "    </tr>\n",
       "    <tr>\n",
       "      <th>101829</th>\n",
       "      <td>0.247522</td>\n",
       "    </tr>\n",
       "    <tr>\n",
       "      <th>101830</th>\n",
       "      <td>0.191435</td>\n",
       "    </tr>\n",
       "    <tr>\n",
       "      <th>101831</th>\n",
       "      <td>0.164888</td>\n",
       "    </tr>\n",
       "    <tr>\n",
       "      <th>101832</th>\n",
       "      <td>0.206823</td>\n",
       "    </tr>\n",
       "  </tbody>\n",
       "</table>\n",
       "<p>101833 rows × 1 columns</p>\n",
       "</div><br><label><b>dtype:</b> float64</label>"
      ],
      "text/plain": [
       "0         0.241498\n",
       "1         0.159824\n",
       "2         0.346754\n",
       "3         0.215402\n",
       "4         0.238771\n",
       "            ...   \n",
       "101828    0.141368\n",
       "101829    0.247522\n",
       "101830    0.191435\n",
       "101831    0.164888\n",
       "101832    0.206823\n",
       "Name: cosine_distance, Length: 101833, dtype: float64"
      ]
     },
     "execution_count": 37,
     "metadata": {},
     "output_type": "execute_result"
    }
   ],
   "source": [
    "cosine_distance"
   ]
  },
  {
   "cell_type": "code",
   "execution_count": null,
   "metadata": {
    "colab": {
     "base_uri": "https://localhost:8080/"
    },
    "id": "5FcIbRuTmeoi",
    "outputId": "f7041955-52ed-4c25-9280-c899445a5c53"
   },
   "outputs": [
    {
     "name": "stdout",
     "output_type": "stream",
     "text": [
      "Топ-10 семантически далёких предложений:\n",
      "\n",
      "Пара #27600 | Расстояние: 1.0386\n",
      "Удмуртский: Верос\n",
      "Русский: Ох и попало сегодня Настеньке!\n",
      "--------------------------------------------------------------------------------\n",
      "\n",
      "Пара #40341 | Расстояние: 1.0307\n",
      "Удмуртский: Нош соосыз номыре валатэк сыло: малы серекъямзэс уг валало.\n",
      "Русский: Дед Тарас и Павел, не понимая, стоят перед этой четверкой бешено хохочущих людей, словно старясь разгадать причину этого невероятного неожиданного смеха.\n",
      "--------------------------------------------------------------------------------\n",
      "\n",
      "Пара #27693 | Расстояние: 1.0106\n",
      "Удмуртский: Вылысьтыд та д?сед п?сьтыса бырытозь, писпу йылэ туб.\n",
      "Русский: Как все получишь, на дерево полезай и до тех пор лезь, пока все семь пар бочкоров и одежды семь смен не истреплешь вконец, покуда они сами с тебя не свалятся.\n",
      "--------------------------------------------------------------------------------\n",
      "\n",
      "Пара #19620 | Расстояние: 1.0103\n",
      "Удмуртский: Озьыен, эшъёс, мынам т?ледлы вераме потэ: кин кулэтэм кылъёсын юнме вераське, солэн малпаськонэз но пумен ярантэм луэ.\n",
      "Русский: (Все посмотрели на Надю, которая поспешила скрыться в тень фонаря.)\n",
      "--------------------------------------------------------------------------------\n",
      "\n",
      "Пара #27743 | Расстояние: 1.0093\n",
      "Удмуртский: Мыдлань ужаз ке, улонэныз люкиськоно луоз.\n",
      "Русский: - Гляди ж у меня, - прорычал дракон, - исполняй все в точности, иначе жизнью поплатишься.\n",
      "--------------------------------------------------------------------------------\n",
      "\n",
      "Пара #8418 | Расстояние: 0.9950\n",
      "Удмуртский: Со юн вазиськиз:\n",
      "Русский: — До свиданья, Федор!\n",
      "--------------------------------------------------------------------------------\n",
      "\n",
      "Пара #27954 | Расстояние: 0.9865\n",
      "Удмуртский: Нош-ик Яр-П?ськы, б?рдса сеен, лоб?ыса кошкиз.\n",
      "Русский: Летит и плачет без слез: слезами птицы не умеют плакать.\n",
      "--------------------------------------------------------------------------------\n",
      "\n",
      "Пара #27605 | Расстояние: 0.9835\n",
      "Удмуртский: Мар карод на — ышт?з ке ышт?з!\n",
      "Русский: Бабушка внучку любит и новые варежки свяжет.\n",
      "--------------------------------------------------------------------------------\n",
      "\n",
      "Пара #19617 | Расстояние: 0.9739\n",
      "Удмуртский: Солэн сы?е речь верамезлы нокин уг паймы.\n",
      "Русский: Некоторые эту привычку принесли с поверхности, а тут уж решили, что в темноте совсем можно распуститься.\n",
      "--------------------------------------------------------------------------------\n",
      "\n",
      "Пара #36625 | Расстояние: 0.9645\n",
      "Удмуртский: ?abu\n",
      "Русский: Борис Галин. В одном населенном пункте\n",
      "--------------------------------------------------------------------------------\n"
     ]
    }
   ],
   "source": [
    "# 4. Поиск семантически далёких предложений\n",
    "# Используем ранее вычисленные расстояния\n",
    "distant_pairs = df_cosine.nlargest(10, 'cosine_distance')\n",
    "\n",
    "print(\"Топ-10 семантически далёких предложений:\")\n",
    "for idx, row in distant_pairs.iterrows():\n",
    "    print(f\"\\nПара #{idx+1} | Расстояние: {row['cosine_distance']:.4f}\")\n",
    "    print(f\"Удмуртский: {row['udm']}\")\n",
    "    print(f\"Русский: {row['ru']}\")\n",
    "    print(\"-\" * 80)"
   ]
  },
  {
   "cell_type": "code",
   "execution_count": null,
   "metadata": {
    "colab": {
     "base_uri": "https://localhost:8080/"
    },
    "id": "teAEd1ITpo1n",
    "outputId": "52aad225-b55d-4282-ee33-0d1d4217c9c9"
   },
   "outputs": [
    {
     "name": "stdout",
     "output_type": "stream",
     "text": [
      "Найдено выбросов: 3065\n",
      "Средняя разница длин: 1.39 токенов\n",
      "Максимальная разница длин: 75 токенов\n",
      "\n",
      "Топ-10 примеров с наибольшей разницей длин:\n",
      "\n",
      "Пример #99034 | Разница: 75 токенов | Z-оценка: 41.94\n",
      "Удмуртский (122 токенов): Соин ик СССР-лэсь Наркомземзэ, СССР-лэсь технической культураосъя Наркоматсэ, СССР-лэсь совхозъёсъя Наркоматсэ, СССР-лэсь Наркомпищепромзэ, СССР-лэсь Наркоммясомолпромзэ, партилэсь обкомъёссэ но крайкомъёссэ, союзной республикаосысь компартиослэсь ЦК-оссэс, облисполкомъёсты, крайисполкомъёсты но республикаослэсь совнаркомъёссэс косо колхозъёсты, МТС-ёсты но совхозъёсты азьланьын организационно-хозяйственной ласянь юнматыны, соослэсь ваньзэ тракторъёссэс, комбайнъёссэс но мукет сельскохозяйственной машинаоссэс, ужась пудозэс но валэн ужан инвентарьзэс ваньзэ уже кутыны но колхозъёсын, МТС-ёсын но совхозъёсын ужан дисциплинаез ялан юнматыса но ужез радъянэз умоятыса, азьланьын ужазинлыкез данаклы будэтыны. СССР-лэн Народной Комиссаръёсызлэн Советсы но ВКП(б)-лэн Центральной Комитетэз промышленной наркоматъёсты косо тракторъёс но сельскохозяйственной машинаосты лэсьтон планэз, соос пӧлын ик технической культураос понна машинаосты, соослы запасной частьёс, валэн но киын ужан инвентарь, оборудование, минеральной удобрениос но ядохимикатъёс лэсьтон планэз, нош озьы ик сельской хозяйстволы нефтепродуктъёс тырмыт сётон планэз одно ик быдэстыны.\n",
      "Русский (47 токенов): Совет Народных Комиссаров Союза ССР и Центральный Комитет ВКП(б) требуют от промышленных наркоматов безусловного выполнения планов производства тракторов, сельскохозяйственных машин, в том числе машин для технических культур, запасных частей к ним, конного и ручного инвентаря, оборудования, минеральных удобрений и ядохимикатов, а также снабжения сельского хозяйства нефтепродуктами. abu\n",
      "----------------------------------------------------------------------------------------------------\n",
      "\n",
      "Пример #99033 | Разница: 68 токенов | Z-оценка: 37.95\n",
      "Удмуртский (26 токенов): СССР-лэн Народной Комиссаръёсызлэн Советсы но ВКП(б)-лэн Центральной Комитетаз лыдъяло, 1946 арын сельскохозяйственной ужъёсъя планэз быдэстон но вань культураосты ӟеч удалтытон ужъёс туж бадӟым ужпум луо шуыса.\n",
      "Русский (94 токенов): Совет Народных Комиссаров Союза ССР и Центральный Комитет ВКП(б) считают, что выполнение плана сельскохозяйственных работ и получение в 1946 году высокого урожая всех культур является важнейшей задачей, и обязывают Наркомзем СССР, Наркомат Технических Культур СССР, Наркомсовхозов СССР, Наркомпищепром СССР, Наркоммясомолпром СССР, обкомы, крайкомы партии, ЦК компартий союзных республик, облисполкомы, крайисполкомы и Совнаркомы республик обеспечить дальнейшее организационно-хозяйственное укрепление колхозов, МТС и совхозов, полное использование ими тракторов, комбайнов и других сельскохозяйственных машин, живого тягла и конного инвентаря и дальнейшее повышение производительности труда, путём всемерного укрепления трудовой дисциплины и улучшения организации труда в колхозах, МТС и совхозах.\n",
      "----------------------------------------------------------------------------------------------------\n",
      "\n",
      "Пример #99773 | Разница: 48 токенов | Z-оценка: 26.56\n",
      "Удмуртский (28 токенов): Пӧйшуръёс, тылобурдоос но куд-огез нымы-кибыос но пичи нылэз туж яратӥзы, — нылмурт уго туж востэм, зӥбыт вал, соин но, дыр, ма гинэ кулэ, ваньзэ сое пӧйшуръёс солы нуллӥзы.\n",
      "Русский (76 токенов): Звери, птицы и некоторые из насекомых очень полюбили ее, — должно быть, потому, что она была воспитанная и кроткая девочка. Звери снабжали ее всем необходимым для жизни. Крот приносил питательные коренья. Мыши — сахар, сыр и кусочки колбасы. Благородная собака-пудель Артемон приносил булки. Сорока воровала для нее на базаре шоколадные конфеты в серебряных бумажках. Лягушки приносили в ореховых скорлупах лимонад. Ястреб — жареную дичь. Майские жуки — разные ягоды. Бабочки — пыльцу с цветов — пудриться.\n",
      "----------------------------------------------------------------------------------------------------\n",
      "\n",
      "Пример #76782 | Разница: 37 токенов | Z-оценка: 20.29\n",
      "Удмуртский (23 токенов): Тӥни озьы ву но сион люкаса, ӟеч мылкыдо дикарьёсын мон люкиськи но ярдуре кожаллятэк дас одӥг нунал ӵоже азьвыл сямен ик азьлань мынӥ.\n",
      "Русский (60 токенов): Получив таким образом воду, мясо и хлебные зерна, я расстался с дружелюбными дикарями и в течение одиннадцати дней продолжал путь в прежнем направлении, не сворачивая к берегу. Каждую ночь во время штиля мы высекали огонь и зажигали в фонаре самодельную свечку, надеясь, что какое-нибудь судно заметит наше крохотное пламя, но ни одного корабля так и не встретилось нам по пути.\n",
      "----------------------------------------------------------------------------------------------------\n",
      "\n",
      "Пример #63343 | Разница: 31 токенов | Z-оценка: 16.87\n",
      "Удмуртский (26 токенов): Советъёслэн страназылэн кузёосыз, рабочийёс но крестьянъёс, дас кык ар уло ини асьсэды сьӧрлось но страна пушкысь тушмонъёслэсь, сьӧсьёслэсь, даськӧтъёслэсь но котькыӵе пӧртэм подлецъёслэсь вань кужыменызы возьмаса...\n",
      "Русский (57 токенов): Хозяева Страны Советов, рабочие и крестьяне, уже двенадцать лет живут в напряжённом состоянии самообороны против внешних и внутренних врагов, против хищников, паразитов и подлецов всех систем. Живут в борьбе со своею собственной некультурностью и малограмотностью, с дрянными, крепко вросшими в плоть и кровь бытовыми навыками, которые они унаследовали от буржуазии, которыми заразил их проклятый, рабский, старый мир.\n",
      "----------------------------------------------------------------------------------------------------\n",
      "\n",
      "Пример #77068 | Разница: 28 токенов | Z-оценка: 15.16\n",
      "Удмуртский (21 токенов): Корабль матын сылэ на дыръя, мыным ярано кадез одӥг тӥрлык но отчы кыле на дыръя, мон ваньзэ ик мувыре поттыны выри.\n",
      "Русский (49 токенов): Корабль был цел, и, покуда не отнесло его в сторону, покуда на нем оставалась хоть одна вещь, которой я мог воспользоваться, я считал необходимым свезти оттуда на берег все, что возможно. Поэтому каждый день я отправлялся туда во время отлива и привозил с собою все новые и новые вещи.\n",
      "----------------------------------------------------------------------------------------------------\n",
      "\n",
      "Пример #53534 | Разница: 28 токенов | Z-оценка: 15.16\n",
      "Удмуртский (18 токенов): Со Бонапартъёс асьмелэн но вал, — Разин Степан Тимофеев, Пугач Емельян Иванов, соос сярысь мон тыныд берло мадё...\n",
      "Русский (46 токенов): Бонапарты эти и у нас бывали - Разин Степан Тимофеев, Пугач Емельян Иванов; я те про них после скажу... Иногда он долго и молча разглядывал меня, округлив глаза, как будто впервые заметив. Это было неприятно. И никогда не говорил со мною об отце моем, о матери.\n",
      "----------------------------------------------------------------------------------------------------\n",
      "\n",
      "Пример #81882 | Разница: 28 токенов | Z-оценка: 15.16\n",
      "Удмуртский (14 токенов): Коля туж секыт висемез бере тупатскыны кутскиз, сое котьма сиыны, валесаз шудыны но лэзизы.\n",
      "Русский (42 токенов): Как только в Колиной болезни за последним жестоким кризисом наступил перелом к лучшему, когда ему позволили все есть и даже играть в постели, — кошка каким-то особенным тонким инстинктом поняла, что пустоглазая и безносая отошла от Колина изголовья, защелкав челюстями от злости.\n",
      "----------------------------------------------------------------------------------------------------\n",
      "\n",
      "Пример #9827 | Разница: 27 токенов | Z-оценка: 14.59\n",
      "Удмуртский (59 токенов): Узвесь солдатэз ӝӧк вылэ пуктӥзы но, со шуак — вот ведь кыӵе гинэ но паймымон учыръёс уг луыло та югыт дунне вылын! — адӟиз: азьло комнатаез ик, со пичи пиез ик, алигес гинэ йыринуллань усем со укноез ик. Котырак пуктылэмын со шудонъёс ик, нош соос пӧлын сыӵе ик паймымон сылэ картонлэсь лэсьтэм усто дворец, нош ӧс куспын чебер танцовщица.\n",
      "Русский (32 токенов): Его поставили на стол, и — чего-чего не бывает на свете! — он оказался в той же комнате, увидал тех же детей, те же игрушки и чудесный дворец с прелестной маленькой танцовщицей.\n",
      "----------------------------------------------------------------------------------------------------\n",
      "\n",
      "Пример #86939 | Разница: 26 токенов | Z-оценка: 14.02\n",
      "Удмуртский (44 токенов): Кыл верам гинэ ӧвӧл, татын уг яра вал нырез кысканы но, кызйыны но: котькыӵе пичи куара нюлэскын юн шуккиське. Писпу куаръёс борды гинэ но йӧтскыны шедьтӥськод ке, котыр юн куара вӧлме, нош пыд улын чигыны шедем кӧс силёлэн куараез пистолетэн ыбем куара кадь чузъяське.\n",
      "Русский (18 токенов): Нельзя было не только переброситься словечком — даже высморкаться или кашлянуть: каждый звук раздавался в лесу необыкновенно громко.\n",
      "----------------------------------------------------------------------------------------------------\n"
     ]
    }
   ],
   "source": [
    "# 5. Поиск выбросов по разнице длин предложений\n",
    "# Рассчитываем разницу длин\n",
    "df['len_diff'] = abs(df['udm_len'] - df['ru_len'])\n",
    "\n",
    "diff_mean = df['len_diff'].mean()\n",
    "# Определение выбросов с помощью z-score\n",
    "z_scores = (df['len_diff'] - diff_mean) / diff_std\n",
    "df['z_score'] = z_scores\n",
    "\n",
    "# Порог для выбросов (z-score > 3 соответствует 99.7% данных)\n",
    "outlier_threshold = 3\n",
    "diff_outliers = df[abs(z_scores) > outlier_threshold]\n",
    "\n",
    "# Альтернативный метод: IQR\n",
    "Q1 = df['len_diff'].quantile(0.25)\n",
    "Q3 = df['len_diff'].quantile(0.75)\n",
    "IQR = Q3 - Q1\n",
    "iqr_outliers = df[(df['len_diff'] > Q3 + 1.5 * IQR)]\n",
    "\n",
    "# Объединяем результаты\n",
    "all_outliers = pd.concat([diff_outliers, iqr_outliers]).drop_duplicates()\n",
    "\n",
    "# Сортировка по величине разницы\n",
    "all_outliers = all_outliers.sort_values('len_diff', ascending=False)\n",
    "\n",
    "# Вывод результатов\n",
    "print(f\"Найдено выбросов: {len(all_outliers)}\")\n",
    "print(f\"Средняя разница длин: {diff_mean:.2f} токенов\")\n",
    "print(f\"Максимальная разница длин: {all_outliers['len_diff'].max()} токенов\")\n",
    "\n",
    "# Вывод топ-10 примеров с наибольшей разницей\n",
    "print(\"\\nТоп-10 примеров с наибольшей разницей длин:\")\n",
    "for idx, row in all_outliers.head(10).iterrows():\n",
    "    print(f\"\\nПример #{idx+1} | Разница: {row['len_diff']} токенов | Z-оценка: {row['z_score']:.2f}\")\n",
    "    print(f\"Удмуртский ({row['udm_len']} токенов): {row['udm']}\")\n",
    "    print(f\"Русский ({row['ru_len']} токенов): {row['ru']}\")\n",
    "    print(\"-\" * 100)"
   ]
  },
  {
   "cell_type": "code",
   "execution_count": null,
   "metadata": {
    "colab": {
     "base_uri": "https://localhost:8080/",
     "height": 627
    },
    "collapsed": true,
    "id": "WpZQR3j2M-EM",
    "outputId": "9d4861f8-3859-4bd2-fe93-f991a51aa234"
   },
   "outputs": [
    {
     "data": {
      "image/png": "[encoded data removed]",
      "text/plain": [
       "<Figure size 1500x600 with 2 Axes>"
      ]
     },
     "metadata": {},
     "output_type": "display_data"
    }
   ],
   "source": [
    "# 6. Эксперименты с основаниями логарифмов\n",
    "bases = [10]  # Попробуем разные основания\n",
    "\n",
    "fig, axes = plt.subplots(1, 2, figsize=(15, 6))\n",
    "\n",
    "# График для удмуртского языка\n",
    "sns.histplot(df['udm_log10'], bins=50, kde=True, ax=axes[0], color='#1f77b4')\n",
    "axes[0].set_title('Удмуртский: распределение log₁₀(длины предложения)', fontsize=14)\n",
    "axes[0].set_xlabel('log₁₀(длина в токенах)', fontsize=12)\n",
    "axes[0].set_ylabel('Частота', fontsize=12)\n",
    "\n",
    "# Добавляем вертикальные линии для статистик\n",
    "udm_mean = df['udm_log10'].mean()\n",
    "udm_median = df['udm_log10'].median()\n",
    "axes[0].axvline(udm_mean, color='red', linestyle='--', label=f'Среднее: {udm_mean:.2f}')\n",
    "axes[0].legend()\n",
    "\n",
    "# График для русского языка\n",
    "sns.histplot(df['ru_log10'], bins=50, kde=True, ax=axes[1], color='#ff7f0e')\n",
    "axes[1].set_title('Русский: распределение log₁₀(длины предложения)', fontsize=14)\n",
    "axes[1].set_xlabel('log₁₀(длина в токенах)', fontsize=12)\n",
    "axes[1].set_ylabel('Частота', fontsize=12)\n",
    "\n",
    "# Добавляем вертикальные линии для статистик\n",
    "ru_mean = df['ru_log10'].mean()\n",
    "ru_median = df['ru_log10'].median()\n",
    "axes[1].axvline(ru_mean, color='red', linestyle='--', label=f'Среднее: {ru_mean:.2f}')\n",
    "axes[1].legend()\n",
    "\n",
    "# Оптимизация внешнего вида\n",
    "plt.tight_layout()\n",
    "plt.savefig('log10_length_distribution.png', dpi=300)\n",
    "plt.show()"
   ]
  },
  {
   "cell_type": "markdown",
   "metadata": {
    "id": "z4F5QrRuZNW0"
   },
   "source": [
    "Очень похожие модели распределения:\n",
    "\n",
    "Кривые распределения двух языков почти перекрываются (пики частот находятся в диапазоне 6000-8000)\n",
    "Это показывает, что длина параллельных пар предложений в высокой степени совпадает, что указывает на хорошее качество перевода корпуса\n",
    "\n",
    "Мы также видим небольшую разницу в среднее, это значит русские предложения немного длиннее."
   ]
  }
 ],
 "metadata": {
  "colab": {
   "provenance": []
  },
  "kernelspec": {
   "display_name": "Python 3",
   "name": "python3"
  },
  "language_info": {
   "name": "python"
  }
 },
 "nbformat": 4,
 "nbformat_minor": 0
}
